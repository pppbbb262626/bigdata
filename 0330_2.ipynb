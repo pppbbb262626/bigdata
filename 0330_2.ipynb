{
  "nbformat": 4,
  "nbformat_minor": 0,
  "metadata": {
    "colab": {
      "name": "0330_2.ipynb",
      "provenance": [],
      "collapsed_sections": [],
      "include_colab_link": true
    },
    "kernelspec": {
      "name": "ir",
      "display_name": "R"
    }
  },
  "cells": [
    {
      "cell_type": "markdown",
      "metadata": {
        "id": "view-in-github",
        "colab_type": "text"
      },
      "source": [
        "<a href=\"https://colab.research.google.com/github/pppbbb262626/bigdata/blob/main/0330_2.ipynb\" target=\"_parent\"><img src=\"https://colab.research.google.com/assets/colab-badge.svg\" alt=\"Open In Colab\"/></a>"
      ]
    },
    {
      "cell_type": "code",
      "metadata": {
        "colab": {
          "base_uri": "https://localhost:8080/"
        },
        "id": "3YZeFKxWM1ve",
        "outputId": "41429ba2-ba5d-41cd-d16b-ef09837ca678"
      },
      "source": [
        "install.packages(\"rJava\")"
      ],
      "execution_count": 1,
      "outputs": [
        {
          "output_type": "stream",
          "text": [
            "Installing package into ‘/usr/local/lib/R/site-library’\n",
            "(as ‘lib’ is unspecified)\n",
            "\n"
          ],
          "name": "stderr"
        }
      ]
    },
    {
      "cell_type": "code",
      "metadata": {
        "colab": {
          "base_uri": "https://localhost:8080/"
        },
        "id": "QGoQ_C5XNKjE",
        "outputId": "a1838090-eb13-43b2-9785-fe0bdb5d881a"
      },
      "source": [
        "install.packages(\"jiebaR\")"
      ],
      "execution_count": 2,
      "outputs": [
        {
          "output_type": "stream",
          "text": [
            "Installing package into ‘/usr/local/lib/R/site-library’\n",
            "(as ‘lib’ is unspecified)\n",
            "\n",
            "also installing the dependency ‘jiebaRD’\n",
            "\n",
            "\n"
          ],
          "name": "stderr"
        }
      ]
    },
    {
      "cell_type": "code",
      "metadata": {
        "colab": {
          "base_uri": "https://localhost:8080/"
        },
        "id": "22QeefLhNn3F",
        "outputId": "1d681407-a979-434b-8c70-239b5a1122ad"
      },
      "source": [
        "install.packages(\"tmcn\")"
      ],
      "execution_count": 3,
      "outputs": [
        {
          "output_type": "stream",
          "text": [
            "Installing package into ‘/usr/local/lib/R/site-library’\n",
            "(as ‘lib’ is unspecified)\n",
            "\n"
          ],
          "name": "stderr"
        }
      ]
    },
    {
      "cell_type": "code",
      "metadata": {
        "colab": {
          "base_uri": "https://localhost:8080/"
        },
        "id": "sG2RNXiKNsMU",
        "outputId": "e0c6b62d-1608-4c8b-9c7f-f3567d326f04"
      },
      "source": [
        "install.packages(\"dplyr\")"
      ],
      "execution_count": 4,
      "outputs": [
        {
          "output_type": "stream",
          "text": [
            "Installing package into ‘/usr/local/lib/R/site-library’\n",
            "(as ‘lib’ is unspecified)\n",
            "\n"
          ],
          "name": "stderr"
        }
      ]
    },
    {
      "cell_type": "code",
      "metadata": {
        "colab": {
          "base_uri": "https://localhost:8080/"
        },
        "id": "mXEbDd8QNvSz",
        "outputId": "e4c2776e-eda7-4ef5-c9e7-f902ff85607a"
      },
      "source": [
        "install.packages(\"lubridate\")"
      ],
      "execution_count": 5,
      "outputs": [
        {
          "output_type": "stream",
          "text": [
            "Installing package into ‘/usr/local/lib/R/site-library’\n",
            "(as ‘lib’ is unspecified)\n",
            "\n"
          ],
          "name": "stderr"
        }
      ]
    },
    {
      "cell_type": "code",
      "metadata": {
        "colab": {
          "base_uri": "https://localhost:8080/"
        },
        "id": "JSWsWBcaNyvE",
        "outputId": "3af1c428-936e-45ea-fdcb-7cfc27d2d912"
      },
      "source": [
        "install.packages(\"stringr\")"
      ],
      "execution_count": 6,
      "outputs": [
        {
          "output_type": "stream",
          "text": [
            "Installing package into ‘/usr/local/lib/R/site-library’\n",
            "(as ‘lib’ is unspecified)\n",
            "\n"
          ],
          "name": "stderr"
        }
      ]
    },
    {
      "cell_type": "code",
      "metadata": {
        "colab": {
          "base_uri": "https://localhost:8080/"
        },
        "id": "l4ON0rmtOAiF",
        "outputId": "03fa4b3f-a9b2-4fa4-a0ad-23b8a36c9d40"
      },
      "source": [
        "install.packages(\"wordcloud\")"
      ],
      "execution_count": 78,
      "outputs": [
        {
          "output_type": "stream",
          "text": [
            "Installing package into ‘/usr/local/lib/R/site-library’\n",
            "(as ‘lib’ is unspecified)\n",
            "\n"
          ],
          "name": "stderr"
        }
      ]
    },
    {
      "cell_type": "code",
      "metadata": {
        "colab": {
          "base_uri": "https://localhost:8080/"
        },
        "id": "6omzKZ4jOF9a",
        "outputId": "66a34b60-8f5e-47df-8f4b-03abc6f4b835"
      },
      "source": [
        "install.packages(\"Rwordseg\",repos = \"http://R-Forge.R-project.org\")"
      ],
      "execution_count": 79,
      "outputs": [
        {
          "output_type": "stream",
          "text": [
            "Installing package into ‘/usr/local/lib/R/site-library’\n",
            "(as ‘lib’ is unspecified)\n",
            "\n",
            "Warning message:\n",
            "“dependency ‘HMM’ is not available”\n",
            "Warning message in install.packages(\"Rwordseg\", repos = \"http://R-Forge.R-project.org\"):\n",
            "“installation of package ‘Rwordseg’ had non-zero exit status”\n"
          ],
          "name": "stderr"
        }
      ]
    },
    {
      "cell_type": "code",
      "metadata": {
        "id": "zpEdGuaFOVJA"
      },
      "source": [
        "library(dplyr)"
      ],
      "execution_count": 80,
      "outputs": []
    },
    {
      "cell_type": "code",
      "metadata": {
        "id": "m7npajYYOipC"
      },
      "source": [
        "library(lubridate)"
      ],
      "execution_count": 81,
      "outputs": []
    },
    {
      "cell_type": "code",
      "metadata": {
        "id": "yxbWacGgOl46"
      },
      "source": [
        "library(stringr)"
      ],
      "execution_count": 82,
      "outputs": []
    },
    {
      "cell_type": "code",
      "metadata": {
        "id": "V-55MT_vOyA1"
      },
      "source": [
        "library(jiebaR)"
      ],
      "execution_count": 83,
      "outputs": []
    },
    {
      "cell_type": "code",
      "metadata": {
        "colab": {
          "base_uri": "https://localhost:8080/"
        },
        "id": "ovV8QDXrO3kr",
        "outputId": "4fdc1181-9ccd-493f-ca0f-528742181a89"
      },
      "source": [
        "library(wordcloud)"
      ],
      "execution_count": 84,
      "outputs": [
        {
          "output_type": "stream",
          "text": [
            "Loading required package: RColorBrewer\n",
            "\n"
          ],
          "name": "stderr"
        }
      ]
    },
    {
      "cell_type": "code",
      "metadata": {
        "id": "opGukU9SO-J1"
      },
      "source": [
        "#載入文字\n",
        "content <- \"五月天今迎來成軍24周年紀念日，讓台南最終場「好好好想見到你」演唱會氣氛無比複雜，歡樂中帶點依依不捨，而慣性脫稿演出的他們沒讓場內、外3萬名觀眾失望，不只開放看台區觀眾點歌，甚至即興加碼帶來歌單之外的作品，另為呼應慶生的開心氣氛，LED大螢幕特別秀出手繪海報，阿信大方應允：「開放拍照1分鐘。」罕見放送福利。\n",
        "阿信感性表示30歲生日那年和石頭、瑪莎、怪獸、冠佑4位團員一起在北京，「從沒想過有天會30歲，真的太天真了，現在45歲了，那時候在想五月天到底會怎麼樣？在這個樂壇，不是你要做什麼，這世界就會讓你做什麼。」\n",
        "他說幸好他們會寫點歌、也會玩點樂器，「24年了，五月天在這裡，還有這麼多人願意來聽，我要跟你們說的是五月天不只是冠佑、石頭、怪獸、瑪莎、阿信，還有包括你們，有你們加入，五月天才變得完整，我要告訴你們，加入五月天永遠不會太遲，謝謝你們。」\n",
        "接著阿信想起24年前的同一天，辦完大安森林公園演唱會後是一戰成名，邀約不斷，某場是在朋友的朋友開的炸雞店擔任演出嘉賓，不過酬勞不是鈔票，而是在演出過程中享用無限量的炸雞，成員們各個輪流Cover以便享用，身為主唱的阿信沒人相助，無奈表示：「唱完才發現，為什麼肚子還是餓的，所以現在就是要你們（指團員）唱歌。」怪獸立刻要求他端出炸雞，瑪莎也幫腔：「對啊，至少讓我們看到你吃！」氣氛歡樂。\n",
        "而當他們獻唱新歌「因為你所以我」時，阿信無預警在IG開直播，數萬名網友一一獻上祝福，場內同步播放同樣3月29日出生的數名素人的慶生影片，最後一幕是今天出生的小嬰兒，令人格外感動。\""
      ],
      "execution_count": 85,
      "outputs": []
    },
    {
      "cell_type": "code",
      "metadata": {
        "id": "uzYfrFD6PHHY"
      },
      "source": [
        "#定義斷詞器\n",
        "cutter <- worker(bylines = F)#"
      ],
      "execution_count": 86,
      "outputs": []
    },
    {
      "cell_type": "code",
      "metadata": {
        "colab": {
          "base_uri": "https://localhost:8080/",
          "height": 169
        },
        "id": "HP1Cv01TPjN1",
        "outputId": "0ffb36f7-e8ee-49f5-ab5f-7e6b1cc700dc"
      },
      "source": [
        "cutter[content]"
      ],
      "execution_count": 87,
      "outputs": [
        {
          "output_type": "display_data",
          "data": {
            "text/plain": [
              "  [1] \"五月天\"   \"今\"       \"迎來\"     \"成軍\"     \"24\"       \"周年\"    \n",
              "  [7] \"紀念日\"   \"讓\"       \"台南\"     \"最\"       \"終場\"     \"好\"      \n",
              " [13] \"好好\"     \"想\"       \"見到\"     \"你\"       \"演唱會\"   \"氣氛\"    \n",
              " [19] \"無比\"     \"複雜\"     \"歡樂\"     \"中帶點\"   \"依依不捨\" \"而\"      \n",
              " [25] \"慣性\"     \"脫稿\"     \"演出\"     \"的\"       \"他們\"     \"沒\"      \n",
              " [31] \"讓\"       \"場內\"     \"外\"       \"3\"        \"萬名\"     \"觀眾\"    \n",
              " [37] \"失望\"     \"不\"       \"只\"       \"開放\"     \"看台\"     \"區觀眾\"  \n",
              " [43] \"點歌\"     \"甚至\"     \"即興\"     \"加碼\"     \"帶來\"     \"歌單\"    \n",
              " [49] \"之外\"     \"的\"       \"作品\"     \"另為\"     \"呼應\"     \"慶生\"    \n",
              " [55] \"的\"       \"開心\"     \"氣氛\"     \"LED\"      \"大\"       \"螢幕\"    \n",
              " [61] \"特別\"     \"秀\"       \"出手\"     \"繪\"       \"海報\"     \"阿信\"    \n",
              " [67] \"大方\"     \"應允\"     \"開放\"     \"拍照\"     \"1\"        \"分鐘\"    \n",
              " [73] \"罕見\"     \"放送\"     \"福利\"     \"阿信\"     \"感性\"     \"表示\"    \n",
              " [79] \"30\"       \"歲\"       \"生日\"     \"那年\"     \"和\"       \"石頭\"    \n",
              " [85] \"瑪莎\"     \"怪獸\"     \"冠\"       \"佑\"       \"4\"        \"位\"      \n",
              " [91] \"團員\"     \"一起\"     \"在\"       \"北京\"     \"從沒\"     \"想過\"    \n",
              " [97] \"有\"       \"天會\"     \"30\"       \"歲\"       \"真的\"     \"太天真\"  \n",
              "[103] \"了\"       \"現在\"     \"45\"       \"歲\"       \"了\"       \"那\"      \n",
              "[109] \"時候\"     \"在\"       \"想\"       \"五月天\"   \"到底\"     \"會\"      \n",
              "[115] \"怎麼樣\"   \"在\"       \"這個\"     \"樂壇\"     \"不是\"     \"你\"      \n",
              "[121] \"要\"       \"做\"       \"什麼\"     \"這\"       \"世界\"     \"就\"      \n",
              "[127] \"會\"       \"讓\"       \"你\"       \"做\"       \"什麼\"     \"他\"      \n",
              "[133] \"說\"       \"幸好\"     \"他們\"     \"會\"       \"寫點\"     \"歌\"      \n",
              "[139] \"也\"       \"會\"       \"玩\"       \"點\"       \"樂器\"     \"24\"      \n",
              "[145] \"年\"       \"了\"       \"五月天\"   \"在\"       \"這裡\"     \"還有\"    \n",
              "[151] \"這麼\"     \"多人\"     \"願意\"     \"來\"       \"聽\"       \"我要\"    \n",
              "[157] \"跟\"       \"你們\"     \"說\"       \"的\"       \"是\"       \"五月天\"  \n",
              "[163] \"不\"       \"只是\"     \"冠佑\"     \"石頭\"     \"怪獸\"     \"瑪莎\"    \n",
              "[169] \"阿\"       \"信\"       \"還有\"     \"包括\"     \"你們\"     \"有\"      \n",
              "[175] \"你們\"     \"加入\"     \"五月\"     \"天才\"     \"變得\"     \"完整\"    \n",
              "[181] \"我要\"     \"告訴\"     \"你們\"     \"加入\"     \"五月天\"   \"永遠\"    \n",
              "[187] \"不會\"     \"太遲\"     \"謝謝你們\" \"接著\"     \"阿信\"     \"想起\"    \n",
              "[193] \"24\"       \"年前\"     \"的\"       \"同一天\"   \"辦完\"     \"大安\"    \n",
              "[199] \"森林公園\" \"演唱會\"   \"後\"       \"是\"       \"一戰\"     \"成名\"    \n",
              "[205] \"邀約\"     \"不斷\"     \"某場\"     \"是\"       \"在\"       \"朋友\"    \n",
              "[211] \"的\"       \"朋友\"     \"開\"       \"的\"       \"炸雞\"     \"店\"      \n",
              "[217] \"擔任\"     \"演出\"     \"嘉賓\"     \"不過\"     \"酬勞\"     \"不是\"    \n",
              "[223] \"鈔票\"     \"而是\"     \"在\"       \"演出\"     \"過程\"     \"中\"      \n",
              "[229] \"享用\"     \"無限量\"   \"的\"       \"炸雞\"     \"成員\"     \"們\"      \n",
              "[235] \"各個\"     \"輪流\"     \"Cover\"    \"以便\"     \"享用\"     \"身為\"    \n",
              "[241] \"主唱\"     \"的\"       \"阿信\"     \"沒人\"     \"相助\"     \"無奈\"    \n",
              "[247] \"表示\"     \"唱\"       \"完\"       \"才\"       \"發現\"     \"為\"      \n",
              "[253] \"什麼\"     \"肚子\"     \"還是\"     \"餓\"       \"的\"       \"所以\"    \n",
              "[259] \"現在\"     \"就是\"     \"要\"       \"你們\"     \"指\"       \"團員\"    \n",
              "[265] \"唱歌\"     \"怪獸\"     \"立刻\"     \"要求\"     \"他端\"     \"出\"      \n",
              "[271] \"炸雞\"     \"瑪莎\"     \"也\"       \"幫腔\"     \"對\"       \"啊\"      \n",
              "[277] \"至少\"     \"讓\"       \"我們\"     \"看到\"     \"你吃\"     \"氣氛\"    \n",
              "[283] \"歡樂\"     \"而當\"     \"他們\"     \"獻唱\"     \"新歌\"     \"因\"      \n",
              "[289] \"為\"       \"你\"       \"所以\"     \"我\"       \"時\"       \"阿信\"    \n",
              "[295] \"無\"       \"預警\"     \"在\"       \"IG\"       \"開\"       \"直播\"    \n",
              "[301] \"數萬名\"   \"網友\"     \"一一\"     \"獻上\"     \"祝福\"     \"場內\"    \n",
              "[307] \"同步\"     \"播放\"     \"同樣\"     \"3\"        \"月\"       \"29\"      \n",
              "[313] \"日\"       \"出生\"     \"的\"       \"數名\"     \"素人\"     \"的\"      \n",
              "[319] \"慶生\"     \"影片\"     \"最後\"     \"一幕\"     \"是\"       \"今天\"    \n",
              "[325] \"出生\"     \"的\"       \"小\"       \"嬰兒\"     \"令人\"     \"格外\"    \n",
              "[331] \"感動\"    "
            ],
            "text/latex": "\\begin{enumerate*}\n\\item '五月天'\n\\item '今'\n\\item '迎來'\n\\item '成軍'\n\\item '24'\n\\item '周年'\n\\item '紀念日'\n\\item '讓'\n\\item '台南'\n\\item '最'\n\\item '終場'\n\\item '好'\n\\item '好好'\n\\item '想'\n\\item '見到'\n\\item '你'\n\\item '演唱會'\n\\item '氣氛'\n\\item '無比'\n\\item '複雜'\n\\item '歡樂'\n\\item '中帶點'\n\\item '依依不捨'\n\\item '而'\n\\item '慣性'\n\\item '脫稿'\n\\item '演出'\n\\item '的'\n\\item '他們'\n\\item '沒'\n\\item '讓'\n\\item '場內'\n\\item '外'\n\\item '3'\n\\item '萬名'\n\\item '觀眾'\n\\item '失望'\n\\item '不'\n\\item '只'\n\\item '開放'\n\\item '看台'\n\\item '區觀眾'\n\\item '點歌'\n\\item '甚至'\n\\item '即興'\n\\item '加碼'\n\\item '帶來'\n\\item '歌單'\n\\item '之外'\n\\item '的'\n\\item '作品'\n\\item '另為'\n\\item '呼應'\n\\item '慶生'\n\\item '的'\n\\item '開心'\n\\item '氣氛'\n\\item 'LED'\n\\item '大'\n\\item '螢幕'\n\\item '特別'\n\\item '秀'\n\\item '出手'\n\\item '繪'\n\\item '海報'\n\\item '阿信'\n\\item '大方'\n\\item '應允'\n\\item '開放'\n\\item '拍照'\n\\item '1'\n\\item '分鐘'\n\\item '罕見'\n\\item '放送'\n\\item '福利'\n\\item '阿信'\n\\item '感性'\n\\item '表示'\n\\item '30'\n\\item '歲'\n\\item '生日'\n\\item '那年'\n\\item '和'\n\\item '石頭'\n\\item '瑪莎'\n\\item '怪獸'\n\\item '冠'\n\\item '佑'\n\\item '4'\n\\item '位'\n\\item '團員'\n\\item '一起'\n\\item '在'\n\\item '北京'\n\\item '從沒'\n\\item '想過'\n\\item '有'\n\\item '天會'\n\\item '30'\n\\item '歲'\n\\item '真的'\n\\item '太天真'\n\\item '了'\n\\item '現在'\n\\item '45'\n\\item '歲'\n\\item '了'\n\\item '那'\n\\item '時候'\n\\item '在'\n\\item '想'\n\\item '五月天'\n\\item '到底'\n\\item '會'\n\\item '怎麼樣'\n\\item '在'\n\\item '這個'\n\\item '樂壇'\n\\item '不是'\n\\item '你'\n\\item '要'\n\\item '做'\n\\item '什麼'\n\\item '這'\n\\item '世界'\n\\item '就'\n\\item '會'\n\\item '讓'\n\\item '你'\n\\item '做'\n\\item '什麼'\n\\item '他'\n\\item '說'\n\\item '幸好'\n\\item '他們'\n\\item '會'\n\\item '寫點'\n\\item '歌'\n\\item '也'\n\\item '會'\n\\item '玩'\n\\item '點'\n\\item '樂器'\n\\item '24'\n\\item '年'\n\\item '了'\n\\item '五月天'\n\\item '在'\n\\item '這裡'\n\\item '還有'\n\\item '這麼'\n\\item '多人'\n\\item '願意'\n\\item '來'\n\\item '聽'\n\\item '我要'\n\\item '跟'\n\\item '你們'\n\\item '說'\n\\item '的'\n\\item '是'\n\\item '五月天'\n\\item '不'\n\\item '只是'\n\\item '冠佑'\n\\item '石頭'\n\\item '怪獸'\n\\item '瑪莎'\n\\item '阿'\n\\item '信'\n\\item '還有'\n\\item '包括'\n\\item '你們'\n\\item '有'\n\\item '你們'\n\\item '加入'\n\\item '五月'\n\\item '天才'\n\\item '變得'\n\\item '完整'\n\\item '我要'\n\\item '告訴'\n\\item '你們'\n\\item '加入'\n\\item '五月天'\n\\item '永遠'\n\\item '不會'\n\\item '太遲'\n\\item '謝謝你們'\n\\item '接著'\n\\item '阿信'\n\\item '想起'\n\\item '24'\n\\item '年前'\n\\item '的'\n\\item '同一天'\n\\item '辦完'\n\\item '大安'\n\\item '森林公園'\n\\item '演唱會'\n\\item '後'\n\\item '是'\n\\item '一戰'\n\\item '成名'\n\\item '邀約'\n\\item '不斷'\n\\item '某場'\n\\item '是'\n\\item '在'\n\\item '朋友'\n\\item '的'\n\\item '朋友'\n\\item '開'\n\\item '的'\n\\item '炸雞'\n\\item '店'\n\\item '擔任'\n\\item '演出'\n\\item '嘉賓'\n\\item '不過'\n\\item '酬勞'\n\\item '不是'\n\\item '鈔票'\n\\item '而是'\n\\item '在'\n\\item '演出'\n\\item '過程'\n\\item '中'\n\\item '享用'\n\\item '無限量'\n\\item '的'\n\\item '炸雞'\n\\item '成員'\n\\item '們'\n\\item '各個'\n\\item '輪流'\n\\item 'Cover'\n\\item '以便'\n\\item '享用'\n\\item '身為'\n\\item '主唱'\n\\item '的'\n\\item '阿信'\n\\item '沒人'\n\\item '相助'\n\\item '無奈'\n\\item '表示'\n\\item '唱'\n\\item '完'\n\\item '才'\n\\item '發現'\n\\item '為'\n\\item '什麼'\n\\item '肚子'\n\\item '還是'\n\\item '餓'\n\\item '的'\n\\item '所以'\n\\item '現在'\n\\item '就是'\n\\item '要'\n\\item '你們'\n\\item '指'\n\\item '團員'\n\\item '唱歌'\n\\item '怪獸'\n\\item '立刻'\n\\item '要求'\n\\item '他端'\n\\item '出'\n\\item '炸雞'\n\\item '瑪莎'\n\\item '也'\n\\item '幫腔'\n\\item '對'\n\\item '啊'\n\\item '至少'\n\\item '讓'\n\\item '我們'\n\\item '看到'\n\\item '你吃'\n\\item '氣氛'\n\\item '歡樂'\n\\item '而當'\n\\item '他們'\n\\item '獻唱'\n\\item '新歌'\n\\item '因'\n\\item '為'\n\\item '你'\n\\item '所以'\n\\item '我'\n\\item '時'\n\\item '阿信'\n\\item '無'\n\\item '預警'\n\\item '在'\n\\item 'IG'\n\\item '開'\n\\item '直播'\n\\item '數萬名'\n\\item '網友'\n\\item '一一'\n\\item '獻上'\n\\item '祝福'\n\\item '場內'\n\\item '同步'\n\\item '播放'\n\\item '同樣'\n\\item '3'\n\\item '月'\n\\item '29'\n\\item '日'\n\\item '出生'\n\\item '的'\n\\item '數名'\n\\item '素人'\n\\item '的'\n\\item '慶生'\n\\item '影片'\n\\item '最後'\n\\item '一幕'\n\\item '是'\n\\item '今天'\n\\item '出生'\n\\item '的'\n\\item '小'\n\\item '嬰兒'\n\\item '令人'\n\\item '格外'\n\\item '感動'\n\\end{enumerate*}\n",
            "text/markdown": "1. '五月天'\n2. '今'\n3. '迎來'\n4. '成軍'\n5. '24'\n6. '周年'\n7. '紀念日'\n8. '讓'\n9. '台南'\n10. '最'\n11. '終場'\n12. '好'\n13. '好好'\n14. '想'\n15. '見到'\n16. '你'\n17. '演唱會'\n18. '氣氛'\n19. '無比'\n20. '複雜'\n21. '歡樂'\n22. '中帶點'\n23. '依依不捨'\n24. '而'\n25. '慣性'\n26. '脫稿'\n27. '演出'\n28. '的'\n29. '他們'\n30. '沒'\n31. '讓'\n32. '場內'\n33. '外'\n34. '3'\n35. '萬名'\n36. '觀眾'\n37. '失望'\n38. '不'\n39. '只'\n40. '開放'\n41. '看台'\n42. '區觀眾'\n43. '點歌'\n44. '甚至'\n45. '即興'\n46. '加碼'\n47. '帶來'\n48. '歌單'\n49. '之外'\n50. '的'\n51. '作品'\n52. '另為'\n53. '呼應'\n54. '慶生'\n55. '的'\n56. '開心'\n57. '氣氛'\n58. 'LED'\n59. '大'\n60. '螢幕'\n61. '特別'\n62. '秀'\n63. '出手'\n64. '繪'\n65. '海報'\n66. '阿信'\n67. '大方'\n68. '應允'\n69. '開放'\n70. '拍照'\n71. '1'\n72. '分鐘'\n73. '罕見'\n74. '放送'\n75. '福利'\n76. '阿信'\n77. '感性'\n78. '表示'\n79. '30'\n80. '歲'\n81. '生日'\n82. '那年'\n83. '和'\n84. '石頭'\n85. '瑪莎'\n86. '怪獸'\n87. '冠'\n88. '佑'\n89. '4'\n90. '位'\n91. '團員'\n92. '一起'\n93. '在'\n94. '北京'\n95. '從沒'\n96. '想過'\n97. '有'\n98. '天會'\n99. '30'\n100. '歲'\n101. '真的'\n102. '太天真'\n103. '了'\n104. '現在'\n105. '45'\n106. '歲'\n107. '了'\n108. '那'\n109. '時候'\n110. '在'\n111. '想'\n112. '五月天'\n113. '到底'\n114. '會'\n115. '怎麼樣'\n116. '在'\n117. '這個'\n118. '樂壇'\n119. '不是'\n120. '你'\n121. '要'\n122. '做'\n123. '什麼'\n124. '這'\n125. '世界'\n126. '就'\n127. '會'\n128. '讓'\n129. '你'\n130. '做'\n131. '什麼'\n132. '他'\n133. '說'\n134. '幸好'\n135. '他們'\n136. '會'\n137. '寫點'\n138. '歌'\n139. '也'\n140. '會'\n141. '玩'\n142. '點'\n143. '樂器'\n144. '24'\n145. '年'\n146. '了'\n147. '五月天'\n148. '在'\n149. '這裡'\n150. '還有'\n151. '這麼'\n152. '多人'\n153. '願意'\n154. '來'\n155. '聽'\n156. '我要'\n157. '跟'\n158. '你們'\n159. '說'\n160. '的'\n161. '是'\n162. '五月天'\n163. '不'\n164. '只是'\n165. '冠佑'\n166. '石頭'\n167. '怪獸'\n168. '瑪莎'\n169. '阿'\n170. '信'\n171. '還有'\n172. '包括'\n173. '你們'\n174. '有'\n175. '你們'\n176. '加入'\n177. '五月'\n178. '天才'\n179. '變得'\n180. '完整'\n181. '我要'\n182. '告訴'\n183. '你們'\n184. '加入'\n185. '五月天'\n186. '永遠'\n187. '不會'\n188. '太遲'\n189. '謝謝你們'\n190. '接著'\n191. '阿信'\n192. '想起'\n193. '24'\n194. '年前'\n195. '的'\n196. '同一天'\n197. '辦完'\n198. '大安'\n199. '森林公園'\n200. '演唱會'\n201. '後'\n202. '是'\n203. '一戰'\n204. '成名'\n205. '邀約'\n206. '不斷'\n207. '某場'\n208. '是'\n209. '在'\n210. '朋友'\n211. '的'\n212. '朋友'\n213. '開'\n214. '的'\n215. '炸雞'\n216. '店'\n217. '擔任'\n218. '演出'\n219. '嘉賓'\n220. '不過'\n221. '酬勞'\n222. '不是'\n223. '鈔票'\n224. '而是'\n225. '在'\n226. '演出'\n227. '過程'\n228. '中'\n229. '享用'\n230. '無限量'\n231. '的'\n232. '炸雞'\n233. '成員'\n234. '們'\n235. '各個'\n236. '輪流'\n237. 'Cover'\n238. '以便'\n239. '享用'\n240. '身為'\n241. '主唱'\n242. '的'\n243. '阿信'\n244. '沒人'\n245. '相助'\n246. '無奈'\n247. '表示'\n248. '唱'\n249. '完'\n250. '才'\n251. '發現'\n252. '為'\n253. '什麼'\n254. '肚子'\n255. '還是'\n256. '餓'\n257. '的'\n258. '所以'\n259. '現在'\n260. '就是'\n261. '要'\n262. '你們'\n263. '指'\n264. '團員'\n265. '唱歌'\n266. '怪獸'\n267. '立刻'\n268. '要求'\n269. '他端'\n270. '出'\n271. '炸雞'\n272. '瑪莎'\n273. '也'\n274. '幫腔'\n275. '對'\n276. '啊'\n277. '至少'\n278. '讓'\n279. '我們'\n280. '看到'\n281. '你吃'\n282. '氣氛'\n283. '歡樂'\n284. '而當'\n285. '他們'\n286. '獻唱'\n287. '新歌'\n288. '因'\n289. '為'\n290. '你'\n291. '所以'\n292. '我'\n293. '時'\n294. '阿信'\n295. '無'\n296. '預警'\n297. '在'\n298. 'IG'\n299. '開'\n300. '直播'\n301. '數萬名'\n302. '網友'\n303. '一一'\n304. '獻上'\n305. '祝福'\n306. '場內'\n307. '同步'\n308. '播放'\n309. '同樣'\n310. '3'\n311. '月'\n312. '29'\n313. '日'\n314. '出生'\n315. '的'\n316. '數名'\n317. '素人'\n318. '的'\n319. '慶生'\n320. '影片'\n321. '最後'\n322. '一幕'\n323. '是'\n324. '今天'\n325. '出生'\n326. '的'\n327. '小'\n328. '嬰兒'\n329. '令人'\n330. '格外'\n331. '感動'\n\n\n",
            "text/html": [
              "<style>\n",
              ".list-inline {list-style: none; margin:0; padding: 0}\n",
              ".list-inline>li {display: inline-block}\n",
              ".list-inline>li:not(:last-child)::after {content: \"\\00b7\"; padding: 0 .5ex}\n",
              "</style>\n",
              "<ol class=list-inline><li>'五月天'</li><li>'今'</li><li>'迎來'</li><li>'成軍'</li><li>'24'</li><li>'周年'</li><li>'紀念日'</li><li>'讓'</li><li>'台南'</li><li>'最'</li><li>'終場'</li><li>'好'</li><li>'好好'</li><li>'想'</li><li>'見到'</li><li>'你'</li><li>'演唱會'</li><li>'氣氛'</li><li>'無比'</li><li>'複雜'</li><li>'歡樂'</li><li>'中帶點'</li><li>'依依不捨'</li><li>'而'</li><li>'慣性'</li><li>'脫稿'</li><li>'演出'</li><li>'的'</li><li>'他們'</li><li>'沒'</li><li>'讓'</li><li>'場內'</li><li>'外'</li><li>'3'</li><li>'萬名'</li><li>'觀眾'</li><li>'失望'</li><li>'不'</li><li>'只'</li><li>'開放'</li><li>'看台'</li><li>'區觀眾'</li><li>'點歌'</li><li>'甚至'</li><li>'即興'</li><li>'加碼'</li><li>'帶來'</li><li>'歌單'</li><li>'之外'</li><li>'的'</li><li>'作品'</li><li>'另為'</li><li>'呼應'</li><li>'慶生'</li><li>'的'</li><li>'開心'</li><li>'氣氛'</li><li>'LED'</li><li>'大'</li><li>'螢幕'</li><li>'特別'</li><li>'秀'</li><li>'出手'</li><li>'繪'</li><li>'海報'</li><li>'阿信'</li><li>'大方'</li><li>'應允'</li><li>'開放'</li><li>'拍照'</li><li>'1'</li><li>'分鐘'</li><li>'罕見'</li><li>'放送'</li><li>'福利'</li><li>'阿信'</li><li>'感性'</li><li>'表示'</li><li>'30'</li><li>'歲'</li><li>'生日'</li><li>'那年'</li><li>'和'</li><li>'石頭'</li><li>'瑪莎'</li><li>'怪獸'</li><li>'冠'</li><li>'佑'</li><li>'4'</li><li>'位'</li><li>'團員'</li><li>'一起'</li><li>'在'</li><li>'北京'</li><li>'從沒'</li><li>'想過'</li><li>'有'</li><li>'天會'</li><li>'30'</li><li>'歲'</li><li>'真的'</li><li>'太天真'</li><li>'了'</li><li>'現在'</li><li>'45'</li><li>'歲'</li><li>'了'</li><li>'那'</li><li>'時候'</li><li>'在'</li><li>'想'</li><li>'五月天'</li><li>'到底'</li><li>'會'</li><li>'怎麼樣'</li><li>'在'</li><li>'這個'</li><li>'樂壇'</li><li>'不是'</li><li>'你'</li><li>'要'</li><li>'做'</li><li>'什麼'</li><li>'這'</li><li>'世界'</li><li>'就'</li><li>'會'</li><li>'讓'</li><li>'你'</li><li>'做'</li><li>'什麼'</li><li>'他'</li><li>'說'</li><li>'幸好'</li><li>'他們'</li><li>'會'</li><li>'寫點'</li><li>'歌'</li><li>'也'</li><li>'會'</li><li>'玩'</li><li>'點'</li><li>'樂器'</li><li>'24'</li><li>'年'</li><li>'了'</li><li>'五月天'</li><li>'在'</li><li>'這裡'</li><li>'還有'</li><li>'這麼'</li><li>'多人'</li><li>'願意'</li><li>'來'</li><li>'聽'</li><li>'我要'</li><li>'跟'</li><li>'你們'</li><li>'說'</li><li>'的'</li><li>'是'</li><li>'五月天'</li><li>'不'</li><li>'只是'</li><li>'冠佑'</li><li>'石頭'</li><li>'怪獸'</li><li>'瑪莎'</li><li>'阿'</li><li>'信'</li><li>'還有'</li><li>'包括'</li><li>'你們'</li><li>'有'</li><li>'你們'</li><li>'加入'</li><li>'五月'</li><li>'天才'</li><li>'變得'</li><li>'完整'</li><li>'我要'</li><li>'告訴'</li><li>'你們'</li><li>'加入'</li><li>'五月天'</li><li>'永遠'</li><li>'不會'</li><li>'太遲'</li><li>'謝謝你們'</li><li>'接著'</li><li>'阿信'</li><li>'想起'</li><li>'24'</li><li>'年前'</li><li>'的'</li><li>'同一天'</li><li>'辦完'</li><li>'大安'</li><li>'森林公園'</li><li>'演唱會'</li><li>'後'</li><li>'是'</li><li>'一戰'</li><li>'成名'</li><li>'邀約'</li><li>'不斷'</li><li>'某場'</li><li>'是'</li><li>'在'</li><li>'朋友'</li><li>'的'</li><li>'朋友'</li><li>'開'</li><li>'的'</li><li>'炸雞'</li><li>'店'</li><li>'擔任'</li><li>'演出'</li><li>'嘉賓'</li><li>'不過'</li><li>'酬勞'</li><li>'不是'</li><li>'鈔票'</li><li>'而是'</li><li>'在'</li><li>'演出'</li><li>'過程'</li><li>'中'</li><li>'享用'</li><li>'無限量'</li><li>'的'</li><li>'炸雞'</li><li>'成員'</li><li>'們'</li><li>'各個'</li><li>'輪流'</li><li>'Cover'</li><li>'以便'</li><li>'享用'</li><li>'身為'</li><li>'主唱'</li><li>'的'</li><li>'阿信'</li><li>'沒人'</li><li>'相助'</li><li>'無奈'</li><li>'表示'</li><li>'唱'</li><li>'完'</li><li>'才'</li><li>'發現'</li><li>'為'</li><li>'什麼'</li><li>'肚子'</li><li>'還是'</li><li>'餓'</li><li>'的'</li><li>'所以'</li><li>'現在'</li><li>'就是'</li><li>'要'</li><li>'你們'</li><li>'指'</li><li>'團員'</li><li>'唱歌'</li><li>'怪獸'</li><li>'立刻'</li><li>'要求'</li><li>'他端'</li><li>'出'</li><li>'炸雞'</li><li>'瑪莎'</li><li>'也'</li><li>'幫腔'</li><li>'對'</li><li>'啊'</li><li>'至少'</li><li>'讓'</li><li>'我們'</li><li>'看到'</li><li>'你吃'</li><li>'氣氛'</li><li>'歡樂'</li><li>'而當'</li><li>'他們'</li><li>'獻唱'</li><li>'新歌'</li><li>'因'</li><li>'為'</li><li>'你'</li><li>'所以'</li><li>'我'</li><li>'時'</li><li>'阿信'</li><li>'無'</li><li>'預警'</li><li>'在'</li><li>'IG'</li><li>'開'</li><li>'直播'</li><li>'數萬名'</li><li>'網友'</li><li>'一一'</li><li>'獻上'</li><li>'祝福'</li><li>'場內'</li><li>'同步'</li><li>'播放'</li><li>'同樣'</li><li>'3'</li><li>'月'</li><li>'29'</li><li>'日'</li><li>'出生'</li><li>'的'</li><li>'數名'</li><li>'素人'</li><li>'的'</li><li>'慶生'</li><li>'影片'</li><li>'最後'</li><li>'一幕'</li><li>'是'</li><li>'今天'</li><li>'出生'</li><li>'的'</li><li>'小'</li><li>'嬰兒'</li><li>'令人'</li><li>'格外'</li><li>'感動'</li></ol>\n"
            ]
          },
          "metadata": {
            "tags": []
          }
        }
      ]
    },
    {
      "cell_type": "code",
      "metadata": {
        "colab": {
          "base_uri": "https://localhost:8080/",
          "height": 169
        },
        "id": "UOH-QlJPP6_S",
        "outputId": "21f97e53-23f4-4060-e85e-b764f7ebd219"
      },
      "source": [
        "new_words <- c(\"好好好想見你\",\"歡樂中\",\"看台區\")\n",
        "#一次只能加入一個詞，常常需要搭配迴圈使用\n",
        "for (i in 1:length(new_words)){new_user_word(cutter,new_words[i])}\n",
        "content <- str_remove_all(content,\"[0-9a-zA-Z]+?\")\n",
        "cutter[content]"
      ],
      "execution_count": 88,
      "outputs": [
        {
          "output_type": "display_data",
          "data": {
            "text/plain": [
              "  [1] \"五月天\"   \"今\"       \"迎來\"     \"成軍\"     \"周年\"     \"紀念日\"  \n",
              "  [7] \"讓\"       \"台南\"     \"最\"       \"終場\"     \"好\"       \"好好\"    \n",
              " [13] \"想\"       \"見到\"     \"你\"       \"演唱會\"   \"氣氛\"     \"無比\"    \n",
              " [19] \"複雜\"     \"歡樂中\"   \"帶點\"     \"依依不捨\" \"而\"       \"慣性\"    \n",
              " [25] \"脫稿\"     \"演出\"     \"的\"       \"他們\"     \"沒\"       \"讓\"      \n",
              " [31] \"場內\"     \"外\"       \"萬名\"     \"觀眾\"     \"失望\"     \"不\"      \n",
              " [37] \"只\"       \"開放\"     \"看台區\"   \"觀眾\"     \"點歌\"     \"甚至\"    \n",
              " [43] \"即興\"     \"加碼\"     \"帶來\"     \"歌單\"     \"之外\"     \"的\"      \n",
              " [49] \"作品\"     \"另為\"     \"呼應\"     \"慶生\"     \"的\"       \"開心\"    \n",
              " [55] \"氣氛\"     \"大\"       \"螢幕\"     \"特別\"     \"秀\"       \"出手\"    \n",
              " [61] \"繪\"       \"海報\"     \"阿信\"     \"大方\"     \"應允\"     \"開放\"    \n",
              " [67] \"拍照\"     \"分鐘\"     \"罕見\"     \"放送\"     \"福利\"     \"阿信\"    \n",
              " [73] \"感性\"     \"表示\"     \"歲\"       \"生日\"     \"那年\"     \"和\"      \n",
              " [79] \"石頭\"     \"瑪莎\"     \"怪獸\"     \"冠\"       \"佑\"       \"位\"      \n",
              " [85] \"團員\"     \"一起\"     \"在\"       \"北京\"     \"從沒\"     \"想過\"    \n",
              " [91] \"有\"       \"天會\"     \"歲\"       \"真的\"     \"太天真\"   \"了\"      \n",
              " [97] \"現在\"     \"歲\"       \"了\"       \"那\"       \"時候\"     \"在\"      \n",
              "[103] \"想\"       \"五月天\"   \"到底\"     \"會\"       \"怎麼樣\"   \"在\"      \n",
              "[109] \"這個\"     \"樂壇\"     \"不是\"     \"你\"       \"要\"       \"做\"      \n",
              "[115] \"什麼\"     \"這\"       \"世界\"     \"就\"       \"會\"       \"讓\"      \n",
              "[121] \"你\"       \"做\"       \"什麼\"     \"他\"       \"說\"       \"幸好\"    \n",
              "[127] \"他們\"     \"會\"       \"寫點\"     \"歌\"       \"也\"       \"會\"      \n",
              "[133] \"玩\"       \"點\"       \"樂器\"     \"年\"       \"了\"       \"五月天\"  \n",
              "[139] \"在\"       \"這裡\"     \"還有\"     \"這麼\"     \"多人\"     \"願意\"    \n",
              "[145] \"來\"       \"聽\"       \"我要\"     \"跟\"       \"你們\"     \"說\"      \n",
              "[151] \"的\"       \"是\"       \"五月天\"   \"不\"       \"只是\"     \"冠佑\"    \n",
              "[157] \"石頭\"     \"怪獸\"     \"瑪莎\"     \"阿\"       \"信\"       \"還有\"    \n",
              "[163] \"包括\"     \"你們\"     \"有\"       \"你們\"     \"加入\"     \"五月\"    \n",
              "[169] \"天才\"     \"變得\"     \"完整\"     \"我要\"     \"告訴\"     \"你們\"    \n",
              "[175] \"加入\"     \"五月天\"   \"永遠\"     \"不會\"     \"太遲\"     \"謝謝你們\"\n",
              "[181] \"接著\"     \"阿信\"     \"想起\"     \"年前\"     \"的\"       \"同一天\"  \n",
              "[187] \"辦完\"     \"大安\"     \"森林公園\" \"演唱會\"   \"後\"       \"是\"      \n",
              "[193] \"一戰\"     \"成名\"     \"邀約\"     \"不斷\"     \"某場\"     \"是\"      \n",
              "[199] \"在\"       \"朋友\"     \"的\"       \"朋友\"     \"開\"       \"的\"      \n",
              "[205] \"炸雞\"     \"店\"       \"擔任\"     \"演出\"     \"嘉賓\"     \"不過\"    \n",
              "[211] \"酬勞\"     \"不是\"     \"鈔票\"     \"而是\"     \"在\"       \"演出\"    \n",
              "[217] \"過程\"     \"中\"       \"享用\"     \"無限量\"   \"的\"       \"炸雞\"    \n",
              "[223] \"成員\"     \"們\"       \"各個\"     \"輪流\"     \"以便\"     \"享用\"    \n",
              "[229] \"身為\"     \"主唱\"     \"的\"       \"阿信\"     \"沒人\"     \"相助\"    \n",
              "[235] \"無奈\"     \"表示\"     \"唱\"       \"完\"       \"才\"       \"發現\"    \n",
              "[241] \"為\"       \"什麼\"     \"肚子\"     \"還是\"     \"餓\"       \"的\"      \n",
              "[247] \"所以\"     \"現在\"     \"就是\"     \"要\"       \"你們\"     \"指\"      \n",
              "[253] \"團員\"     \"唱歌\"     \"怪獸\"     \"立刻\"     \"要求\"     \"他端\"    \n",
              "[259] \"出\"       \"炸雞\"     \"瑪莎\"     \"也\"       \"幫腔\"     \"對\"      \n",
              "[265] \"啊\"       \"至少\"     \"讓\"       \"我們\"     \"看到\"     \"你吃\"    \n",
              "[271] \"氣氛\"     \"歡樂\"     \"而當\"     \"他們\"     \"獻唱\"     \"新歌\"    \n",
              "[277] \"因\"       \"為\"       \"你\"       \"所以\"     \"我\"       \"時\"      \n",
              "[283] \"阿信\"     \"無\"       \"預警\"     \"在\"       \"開\"       \"直播\"    \n",
              "[289] \"數萬名\"   \"網友\"     \"一一\"     \"獻上\"     \"祝福\"     \"場內\"    \n",
              "[295] \"同步\"     \"播放\"     \"同樣\"     \"月\"       \"日\"       \"出生\"    \n",
              "[301] \"的\"       \"數名\"     \"素人\"     \"的\"       \"慶生\"     \"影片\"    \n",
              "[307] \"最後\"     \"一幕\"     \"是\"       \"今天\"     \"出生\"     \"的\"      \n",
              "[313] \"小\"       \"嬰兒\"     \"令人\"     \"格外\"     \"感動\"    "
            ],
            "text/latex": "\\begin{enumerate*}\n\\item '五月天'\n\\item '今'\n\\item '迎來'\n\\item '成軍'\n\\item '周年'\n\\item '紀念日'\n\\item '讓'\n\\item '台南'\n\\item '最'\n\\item '終場'\n\\item '好'\n\\item '好好'\n\\item '想'\n\\item '見到'\n\\item '你'\n\\item '演唱會'\n\\item '氣氛'\n\\item '無比'\n\\item '複雜'\n\\item '歡樂中'\n\\item '帶點'\n\\item '依依不捨'\n\\item '而'\n\\item '慣性'\n\\item '脫稿'\n\\item '演出'\n\\item '的'\n\\item '他們'\n\\item '沒'\n\\item '讓'\n\\item '場內'\n\\item '外'\n\\item '萬名'\n\\item '觀眾'\n\\item '失望'\n\\item '不'\n\\item '只'\n\\item '開放'\n\\item '看台區'\n\\item '觀眾'\n\\item '點歌'\n\\item '甚至'\n\\item '即興'\n\\item '加碼'\n\\item '帶來'\n\\item '歌單'\n\\item '之外'\n\\item '的'\n\\item '作品'\n\\item '另為'\n\\item '呼應'\n\\item '慶生'\n\\item '的'\n\\item '開心'\n\\item '氣氛'\n\\item '大'\n\\item '螢幕'\n\\item '特別'\n\\item '秀'\n\\item '出手'\n\\item '繪'\n\\item '海報'\n\\item '阿信'\n\\item '大方'\n\\item '應允'\n\\item '開放'\n\\item '拍照'\n\\item '分鐘'\n\\item '罕見'\n\\item '放送'\n\\item '福利'\n\\item '阿信'\n\\item '感性'\n\\item '表示'\n\\item '歲'\n\\item '生日'\n\\item '那年'\n\\item '和'\n\\item '石頭'\n\\item '瑪莎'\n\\item '怪獸'\n\\item '冠'\n\\item '佑'\n\\item '位'\n\\item '團員'\n\\item '一起'\n\\item '在'\n\\item '北京'\n\\item '從沒'\n\\item '想過'\n\\item '有'\n\\item '天會'\n\\item '歲'\n\\item '真的'\n\\item '太天真'\n\\item '了'\n\\item '現在'\n\\item '歲'\n\\item '了'\n\\item '那'\n\\item '時候'\n\\item '在'\n\\item '想'\n\\item '五月天'\n\\item '到底'\n\\item '會'\n\\item '怎麼樣'\n\\item '在'\n\\item '這個'\n\\item '樂壇'\n\\item '不是'\n\\item '你'\n\\item '要'\n\\item '做'\n\\item '什麼'\n\\item '這'\n\\item '世界'\n\\item '就'\n\\item '會'\n\\item '讓'\n\\item '你'\n\\item '做'\n\\item '什麼'\n\\item '他'\n\\item '說'\n\\item '幸好'\n\\item '他們'\n\\item '會'\n\\item '寫點'\n\\item '歌'\n\\item '也'\n\\item '會'\n\\item '玩'\n\\item '點'\n\\item '樂器'\n\\item '年'\n\\item '了'\n\\item '五月天'\n\\item '在'\n\\item '這裡'\n\\item '還有'\n\\item '這麼'\n\\item '多人'\n\\item '願意'\n\\item '來'\n\\item '聽'\n\\item '我要'\n\\item '跟'\n\\item '你們'\n\\item '說'\n\\item '的'\n\\item '是'\n\\item '五月天'\n\\item '不'\n\\item '只是'\n\\item '冠佑'\n\\item '石頭'\n\\item '怪獸'\n\\item '瑪莎'\n\\item '阿'\n\\item '信'\n\\item '還有'\n\\item '包括'\n\\item '你們'\n\\item '有'\n\\item '你們'\n\\item '加入'\n\\item '五月'\n\\item '天才'\n\\item '變得'\n\\item '完整'\n\\item '我要'\n\\item '告訴'\n\\item '你們'\n\\item '加入'\n\\item '五月天'\n\\item '永遠'\n\\item '不會'\n\\item '太遲'\n\\item '謝謝你們'\n\\item '接著'\n\\item '阿信'\n\\item '想起'\n\\item '年前'\n\\item '的'\n\\item '同一天'\n\\item '辦完'\n\\item '大安'\n\\item '森林公園'\n\\item '演唱會'\n\\item '後'\n\\item '是'\n\\item '一戰'\n\\item '成名'\n\\item '邀約'\n\\item '不斷'\n\\item '某場'\n\\item '是'\n\\item '在'\n\\item '朋友'\n\\item '的'\n\\item '朋友'\n\\item '開'\n\\item '的'\n\\item '炸雞'\n\\item '店'\n\\item '擔任'\n\\item '演出'\n\\item '嘉賓'\n\\item '不過'\n\\item '酬勞'\n\\item '不是'\n\\item '鈔票'\n\\item '而是'\n\\item '在'\n\\item '演出'\n\\item '過程'\n\\item '中'\n\\item '享用'\n\\item '無限量'\n\\item '的'\n\\item '炸雞'\n\\item '成員'\n\\item '們'\n\\item '各個'\n\\item '輪流'\n\\item '以便'\n\\item '享用'\n\\item '身為'\n\\item '主唱'\n\\item '的'\n\\item '阿信'\n\\item '沒人'\n\\item '相助'\n\\item '無奈'\n\\item '表示'\n\\item '唱'\n\\item '完'\n\\item '才'\n\\item '發現'\n\\item '為'\n\\item '什麼'\n\\item '肚子'\n\\item '還是'\n\\item '餓'\n\\item '的'\n\\item '所以'\n\\item '現在'\n\\item '就是'\n\\item '要'\n\\item '你們'\n\\item '指'\n\\item '團員'\n\\item '唱歌'\n\\item '怪獸'\n\\item '立刻'\n\\item '要求'\n\\item '他端'\n\\item '出'\n\\item '炸雞'\n\\item '瑪莎'\n\\item '也'\n\\item '幫腔'\n\\item '對'\n\\item '啊'\n\\item '至少'\n\\item '讓'\n\\item '我們'\n\\item '看到'\n\\item '你吃'\n\\item '氣氛'\n\\item '歡樂'\n\\item '而當'\n\\item '他們'\n\\item '獻唱'\n\\item '新歌'\n\\item '因'\n\\item '為'\n\\item '你'\n\\item '所以'\n\\item '我'\n\\item '時'\n\\item '阿信'\n\\item '無'\n\\item '預警'\n\\item '在'\n\\item '開'\n\\item '直播'\n\\item '數萬名'\n\\item '網友'\n\\item '一一'\n\\item '獻上'\n\\item '祝福'\n\\item '場內'\n\\item '同步'\n\\item '播放'\n\\item '同樣'\n\\item '月'\n\\item '日'\n\\item '出生'\n\\item '的'\n\\item '數名'\n\\item '素人'\n\\item '的'\n\\item '慶生'\n\\item '影片'\n\\item '最後'\n\\item '一幕'\n\\item '是'\n\\item '今天'\n\\item '出生'\n\\item '的'\n\\item '小'\n\\item '嬰兒'\n\\item '令人'\n\\item '格外'\n\\item '感動'\n\\end{enumerate*}\n",
            "text/markdown": "1. '五月天'\n2. '今'\n3. '迎來'\n4. '成軍'\n5. '周年'\n6. '紀念日'\n7. '讓'\n8. '台南'\n9. '最'\n10. '終場'\n11. '好'\n12. '好好'\n13. '想'\n14. '見到'\n15. '你'\n16. '演唱會'\n17. '氣氛'\n18. '無比'\n19. '複雜'\n20. '歡樂中'\n21. '帶點'\n22. '依依不捨'\n23. '而'\n24. '慣性'\n25. '脫稿'\n26. '演出'\n27. '的'\n28. '他們'\n29. '沒'\n30. '讓'\n31. '場內'\n32. '外'\n33. '萬名'\n34. '觀眾'\n35. '失望'\n36. '不'\n37. '只'\n38. '開放'\n39. '看台區'\n40. '觀眾'\n41. '點歌'\n42. '甚至'\n43. '即興'\n44. '加碼'\n45. '帶來'\n46. '歌單'\n47. '之外'\n48. '的'\n49. '作品'\n50. '另為'\n51. '呼應'\n52. '慶生'\n53. '的'\n54. '開心'\n55. '氣氛'\n56. '大'\n57. '螢幕'\n58. '特別'\n59. '秀'\n60. '出手'\n61. '繪'\n62. '海報'\n63. '阿信'\n64. '大方'\n65. '應允'\n66. '開放'\n67. '拍照'\n68. '分鐘'\n69. '罕見'\n70. '放送'\n71. '福利'\n72. '阿信'\n73. '感性'\n74. '表示'\n75. '歲'\n76. '生日'\n77. '那年'\n78. '和'\n79. '石頭'\n80. '瑪莎'\n81. '怪獸'\n82. '冠'\n83. '佑'\n84. '位'\n85. '團員'\n86. '一起'\n87. '在'\n88. '北京'\n89. '從沒'\n90. '想過'\n91. '有'\n92. '天會'\n93. '歲'\n94. '真的'\n95. '太天真'\n96. '了'\n97. '現在'\n98. '歲'\n99. '了'\n100. '那'\n101. '時候'\n102. '在'\n103. '想'\n104. '五月天'\n105. '到底'\n106. '會'\n107. '怎麼樣'\n108. '在'\n109. '這個'\n110. '樂壇'\n111. '不是'\n112. '你'\n113. '要'\n114. '做'\n115. '什麼'\n116. '這'\n117. '世界'\n118. '就'\n119. '會'\n120. '讓'\n121. '你'\n122. '做'\n123. '什麼'\n124. '他'\n125. '說'\n126. '幸好'\n127. '他們'\n128. '會'\n129. '寫點'\n130. '歌'\n131. '也'\n132. '會'\n133. '玩'\n134. '點'\n135. '樂器'\n136. '年'\n137. '了'\n138. '五月天'\n139. '在'\n140. '這裡'\n141. '還有'\n142. '這麼'\n143. '多人'\n144. '願意'\n145. '來'\n146. '聽'\n147. '我要'\n148. '跟'\n149. '你們'\n150. '說'\n151. '的'\n152. '是'\n153. '五月天'\n154. '不'\n155. '只是'\n156. '冠佑'\n157. '石頭'\n158. '怪獸'\n159. '瑪莎'\n160. '阿'\n161. '信'\n162. '還有'\n163. '包括'\n164. '你們'\n165. '有'\n166. '你們'\n167. '加入'\n168. '五月'\n169. '天才'\n170. '變得'\n171. '完整'\n172. '我要'\n173. '告訴'\n174. '你們'\n175. '加入'\n176. '五月天'\n177. '永遠'\n178. '不會'\n179. '太遲'\n180. '謝謝你們'\n181. '接著'\n182. '阿信'\n183. '想起'\n184. '年前'\n185. '的'\n186. '同一天'\n187. '辦完'\n188. '大安'\n189. '森林公園'\n190. '演唱會'\n191. '後'\n192. '是'\n193. '一戰'\n194. '成名'\n195. '邀約'\n196. '不斷'\n197. '某場'\n198. '是'\n199. '在'\n200. '朋友'\n201. '的'\n202. '朋友'\n203. '開'\n204. '的'\n205. '炸雞'\n206. '店'\n207. '擔任'\n208. '演出'\n209. '嘉賓'\n210. '不過'\n211. '酬勞'\n212. '不是'\n213. '鈔票'\n214. '而是'\n215. '在'\n216. '演出'\n217. '過程'\n218. '中'\n219. '享用'\n220. '無限量'\n221. '的'\n222. '炸雞'\n223. '成員'\n224. '們'\n225. '各個'\n226. '輪流'\n227. '以便'\n228. '享用'\n229. '身為'\n230. '主唱'\n231. '的'\n232. '阿信'\n233. '沒人'\n234. '相助'\n235. '無奈'\n236. '表示'\n237. '唱'\n238. '完'\n239. '才'\n240. '發現'\n241. '為'\n242. '什麼'\n243. '肚子'\n244. '還是'\n245. '餓'\n246. '的'\n247. '所以'\n248. '現在'\n249. '就是'\n250. '要'\n251. '你們'\n252. '指'\n253. '團員'\n254. '唱歌'\n255. '怪獸'\n256. '立刻'\n257. '要求'\n258. '他端'\n259. '出'\n260. '炸雞'\n261. '瑪莎'\n262. '也'\n263. '幫腔'\n264. '對'\n265. '啊'\n266. '至少'\n267. '讓'\n268. '我們'\n269. '看到'\n270. '你吃'\n271. '氣氛'\n272. '歡樂'\n273. '而當'\n274. '他們'\n275. '獻唱'\n276. '新歌'\n277. '因'\n278. '為'\n279. '你'\n280. '所以'\n281. '我'\n282. '時'\n283. '阿信'\n284. '無'\n285. '預警'\n286. '在'\n287. '開'\n288. '直播'\n289. '數萬名'\n290. '網友'\n291. '一一'\n292. '獻上'\n293. '祝福'\n294. '場內'\n295. '同步'\n296. '播放'\n297. '同樣'\n298. '月'\n299. '日'\n300. '出生'\n301. '的'\n302. '數名'\n303. '素人'\n304. '的'\n305. '慶生'\n306. '影片'\n307. '最後'\n308. '一幕'\n309. '是'\n310. '今天'\n311. '出生'\n312. '的'\n313. '小'\n314. '嬰兒'\n315. '令人'\n316. '格外'\n317. '感動'\n\n\n",
            "text/html": [
              "<style>\n",
              ".list-inline {list-style: none; margin:0; padding: 0}\n",
              ".list-inline>li {display: inline-block}\n",
              ".list-inline>li:not(:last-child)::after {content: \"\\00b7\"; padding: 0 .5ex}\n",
              "</style>\n",
              "<ol class=list-inline><li>'五月天'</li><li>'今'</li><li>'迎來'</li><li>'成軍'</li><li>'周年'</li><li>'紀念日'</li><li>'讓'</li><li>'台南'</li><li>'最'</li><li>'終場'</li><li>'好'</li><li>'好好'</li><li>'想'</li><li>'見到'</li><li>'你'</li><li>'演唱會'</li><li>'氣氛'</li><li>'無比'</li><li>'複雜'</li><li>'歡樂中'</li><li>'帶點'</li><li>'依依不捨'</li><li>'而'</li><li>'慣性'</li><li>'脫稿'</li><li>'演出'</li><li>'的'</li><li>'他們'</li><li>'沒'</li><li>'讓'</li><li>'場內'</li><li>'外'</li><li>'萬名'</li><li>'觀眾'</li><li>'失望'</li><li>'不'</li><li>'只'</li><li>'開放'</li><li>'看台區'</li><li>'觀眾'</li><li>'點歌'</li><li>'甚至'</li><li>'即興'</li><li>'加碼'</li><li>'帶來'</li><li>'歌單'</li><li>'之外'</li><li>'的'</li><li>'作品'</li><li>'另為'</li><li>'呼應'</li><li>'慶生'</li><li>'的'</li><li>'開心'</li><li>'氣氛'</li><li>'大'</li><li>'螢幕'</li><li>'特別'</li><li>'秀'</li><li>'出手'</li><li>'繪'</li><li>'海報'</li><li>'阿信'</li><li>'大方'</li><li>'應允'</li><li>'開放'</li><li>'拍照'</li><li>'分鐘'</li><li>'罕見'</li><li>'放送'</li><li>'福利'</li><li>'阿信'</li><li>'感性'</li><li>'表示'</li><li>'歲'</li><li>'生日'</li><li>'那年'</li><li>'和'</li><li>'石頭'</li><li>'瑪莎'</li><li>'怪獸'</li><li>'冠'</li><li>'佑'</li><li>'位'</li><li>'團員'</li><li>'一起'</li><li>'在'</li><li>'北京'</li><li>'從沒'</li><li>'想過'</li><li>'有'</li><li>'天會'</li><li>'歲'</li><li>'真的'</li><li>'太天真'</li><li>'了'</li><li>'現在'</li><li>'歲'</li><li>'了'</li><li>'那'</li><li>'時候'</li><li>'在'</li><li>'想'</li><li>'五月天'</li><li>'到底'</li><li>'會'</li><li>'怎麼樣'</li><li>'在'</li><li>'這個'</li><li>'樂壇'</li><li>'不是'</li><li>'你'</li><li>'要'</li><li>'做'</li><li>'什麼'</li><li>'這'</li><li>'世界'</li><li>'就'</li><li>'會'</li><li>'讓'</li><li>'你'</li><li>'做'</li><li>'什麼'</li><li>'他'</li><li>'說'</li><li>'幸好'</li><li>'他們'</li><li>'會'</li><li>'寫點'</li><li>'歌'</li><li>'也'</li><li>'會'</li><li>'玩'</li><li>'點'</li><li>'樂器'</li><li>'年'</li><li>'了'</li><li>'五月天'</li><li>'在'</li><li>'這裡'</li><li>'還有'</li><li>'這麼'</li><li>'多人'</li><li>'願意'</li><li>'來'</li><li>'聽'</li><li>'我要'</li><li>'跟'</li><li>'你們'</li><li>'說'</li><li>'的'</li><li>'是'</li><li>'五月天'</li><li>'不'</li><li>'只是'</li><li>'冠佑'</li><li>'石頭'</li><li>'怪獸'</li><li>'瑪莎'</li><li>'阿'</li><li>'信'</li><li>'還有'</li><li>'包括'</li><li>'你們'</li><li>'有'</li><li>'你們'</li><li>'加入'</li><li>'五月'</li><li>'天才'</li><li>'變得'</li><li>'完整'</li><li>'我要'</li><li>'告訴'</li><li>'你們'</li><li>'加入'</li><li>'五月天'</li><li>'永遠'</li><li>'不會'</li><li>'太遲'</li><li>'謝謝你們'</li><li>'接著'</li><li>'阿信'</li><li>'想起'</li><li>'年前'</li><li>'的'</li><li>'同一天'</li><li>'辦完'</li><li>'大安'</li><li>'森林公園'</li><li>'演唱會'</li><li>'後'</li><li>'是'</li><li>'一戰'</li><li>'成名'</li><li>'邀約'</li><li>'不斷'</li><li>'某場'</li><li>'是'</li><li>'在'</li><li>'朋友'</li><li>'的'</li><li>'朋友'</li><li>'開'</li><li>'的'</li><li>'炸雞'</li><li>'店'</li><li>'擔任'</li><li>'演出'</li><li>'嘉賓'</li><li>'不過'</li><li>'酬勞'</li><li>'不是'</li><li>'鈔票'</li><li>'而是'</li><li>'在'</li><li>'演出'</li><li>'過程'</li><li>'中'</li><li>'享用'</li><li>'無限量'</li><li>'的'</li><li>'炸雞'</li><li>'成員'</li><li>'們'</li><li>'各個'</li><li>'輪流'</li><li>'以便'</li><li>'享用'</li><li>'身為'</li><li>'主唱'</li><li>'的'</li><li>'阿信'</li><li>'沒人'</li><li>'相助'</li><li>'無奈'</li><li>'表示'</li><li>'唱'</li><li>'完'</li><li>'才'</li><li>'發現'</li><li>'為'</li><li>'什麼'</li><li>'肚子'</li><li>'還是'</li><li>'餓'</li><li>'的'</li><li>'所以'</li><li>'現在'</li><li>'就是'</li><li>'要'</li><li>'你們'</li><li>'指'</li><li>'團員'</li><li>'唱歌'</li><li>'怪獸'</li><li>'立刻'</li><li>'要求'</li><li>'他端'</li><li>'出'</li><li>'炸雞'</li><li>'瑪莎'</li><li>'也'</li><li>'幫腔'</li><li>'對'</li><li>'啊'</li><li>'至少'</li><li>'讓'</li><li>'我們'</li><li>'看到'</li><li>'你吃'</li><li>'氣氛'</li><li>'歡樂'</li><li>'而當'</li><li>'他們'</li><li>'獻唱'</li><li>'新歌'</li><li>'因'</li><li>'為'</li><li>'你'</li><li>'所以'</li><li>'我'</li><li>'時'</li><li>'阿信'</li><li>'無'</li><li>'預警'</li><li>'在'</li><li>'開'</li><li>'直播'</li><li>'數萬名'</li><li>'網友'</li><li>'一一'</li><li>'獻上'</li><li>'祝福'</li><li>'場內'</li><li>'同步'</li><li>'播放'</li><li>'同樣'</li><li>'月'</li><li>'日'</li><li>'出生'</li><li>'的'</li><li>'數名'</li><li>'素人'</li><li>'的'</li><li>'慶生'</li><li>'影片'</li><li>'最後'</li><li>'一幕'</li><li>'是'</li><li>'今天'</li><li>'出生'</li><li>'的'</li><li>'小'</li><li>'嬰兒'</li><li>'令人'</li><li>'格外'</li><li>'感動'</li></ol>\n"
            ]
          },
          "metadata": {
            "tags": []
          }
        }
      ]
    },
    {
      "cell_type": "code",
      "metadata": {
        "colab": {
          "base_uri": "https://localhost:8080/",
          "height": 152
        },
        "id": "35QPkxTgRZoW",
        "outputId": "16bd093e-62f9-4a82-e622-6f406a38e338"
      },
      "source": [
        "new_words <- c(\"好好好想見你\",\"歡樂中\",\"看台區\")\n",
        "writeLines(new_words,\"new_words.txt\")\n",
        "stop_words <- c(\"在\",\"之\",\"更\",\"個\",\"未\",\"而\",\"也\",\"與\",\"的\",\"會\",\"是\",\"讓\",\"就\",\"歲\",\"你\",\"了\")\n",
        "writeLines(stop_words,\"stop_words.txt\")\n",
        "cutter <- worker(user=\"new_words.txt\",stop_word = \"stop_words.txt\",bylines=FALSE)\n",
        "seg_words <- cutter[content]\n",
        "seg_words"
      ],
      "execution_count": 95,
      "outputs": [
        {
          "output_type": "display_data",
          "data": {
            "text/plain": [
              "  [1] \"五月天\"   \"今\"       \"迎來\"     \"成軍\"     \"周年\"     \"紀念日\"  \n",
              "  [7] \"台南\"     \"最\"       \"終場\"     \"好\"       \"好好\"     \"想\"      \n",
              " [13] \"見到\"     \"演唱會\"   \"氣氛\"     \"無比\"     \"複雜\"     \"歡樂中\"  \n",
              " [19] \"帶點\"     \"依依不捨\" \"慣性\"     \"脫稿\"     \"演出\"     \"他們\"    \n",
              " [25] \"沒\"       \"場內\"     \"外\"       \"萬名\"     \"觀眾\"     \"失望\"    \n",
              " [31] \"不\"       \"只\"       \"開放\"     \"看台區\"   \"觀眾\"     \"點歌\"    \n",
              " [37] \"甚至\"     \"即興\"     \"加碼\"     \"帶來\"     \"歌單\"     \"之外\"    \n",
              " [43] \"作品\"     \"另為\"     \"呼應\"     \"慶生\"     \"開心\"     \"氣氛\"    \n",
              " [49] \"大\"       \"螢幕\"     \"特別\"     \"秀\"       \"出手\"     \"繪\"      \n",
              " [55] \"海報\"     \"阿信\"     \"大方\"     \"應允\"     \"開放\"     \"拍照\"    \n",
              " [61] \"分鐘\"     \"罕見\"     \"放送\"     \"福利\"     \"阿信\"     \"感性\"    \n",
              " [67] \"表示\"     \"生日\"     \"那年\"     \"和\"       \"石頭\"     \"瑪莎\"    \n",
              " [73] \"怪獸\"     \"冠\"       \"佑\"       \"位\"       \"團員\"     \"一起\"    \n",
              " [79] \"北京\"     \"從沒\"     \"想過\"     \"有\"       \"天會\"     \"真的\"    \n",
              " [85] \"太天真\"   \"現在\"     \"那\"       \"時候\"     \"想\"       \"五月天\"  \n",
              " [91] \"到底\"     \"怎麼樣\"   \"這個\"     \"樂壇\"     \"不是\"     \"要\"      \n",
              " [97] \"做\"       \"什麼\"     \"這\"       \"世界\"     \"做\"       \"什麼\"    \n",
              "[103] \"他\"       \"說\"       \"幸好\"     \"他們\"     \"寫點\"     \"歌\"      \n",
              "[109] \"玩\"       \"點\"       \"樂器\"     \"年\"       \"五月天\"   \"這裡\"    \n",
              "[115] \"還有\"     \"這麼\"     \"多人\"     \"願意\"     \"來\"       \"聽\"      \n",
              "[121] \"我要\"     \"跟\"       \"你們\"     \"說\"       \"五月天\"   \"不\"      \n",
              "[127] \"只是\"     \"冠佑\"     \"石頭\"     \"怪獸\"     \"瑪莎\"     \"阿\"      \n",
              "[133] \"信\"       \"還有\"     \"包括\"     \"你們\"     \"有\"       \"你們\"    \n",
              "[139] \"加入\"     \"五月\"     \"天才\"     \"變得\"     \"完整\"     \"我要\"    \n",
              "[145] \"告訴\"     \"你們\"     \"加入\"     \"五月天\"   \"永遠\"     \"不會\"    \n",
              "[151] \"太遲\"     \"謝謝你們\" \"接著\"     \"阿信\"     \"想起\"     \"年前\"    \n",
              "[157] \"同一天\"   \"辦完\"     \"大安\"     \"森林公園\" \"演唱會\"   \"後\"      \n",
              "[163] \"一戰\"     \"成名\"     \"邀約\"     \"不斷\"     \"某場\"     \"朋友\"    \n",
              "[169] \"朋友\"     \"開\"       \"炸雞\"     \"店\"       \"擔任\"     \"演出\"    \n",
              "[175] \"嘉賓\"     \"不過\"     \"酬勞\"     \"不是\"     \"鈔票\"     \"而是\"    \n",
              "[181] \"演出\"     \"過程\"     \"中\"       \"享用\"     \"無限量\"   \"炸雞\"    \n",
              "[187] \"成員\"     \"們\"       \"各個\"     \"輪流\"     \"以便\"     \"享用\"    \n",
              "[193] \"身為\"     \"主唱\"     \"阿信\"     \"沒人\"     \"相助\"     \"無奈\"    \n",
              "[199] \"表示\"     \"唱\"       \"完\"       \"才\"       \"發現\"     \"為\"      \n",
              "[205] \"什麼\"     \"肚子\"     \"還是\"     \"餓\"       \"所以\"     \"現在\"    \n",
              "[211] \"就是\"     \"要\"       \"你們\"     \"指\"       \"團員\"     \"唱歌\"    \n",
              "[217] \"怪獸\"     \"立刻\"     \"要求\"     \"他端\"     \"出\"       \"炸雞\"    \n",
              "[223] \"瑪莎\"     \"幫腔\"     \"對\"       \"啊\"       \"至少\"     \"我們\"    \n",
              "[229] \"看到\"     \"你吃\"     \"氣氛\"     \"歡樂\"     \"而當\"     \"他們\"    \n",
              "[235] \"獻唱\"     \"新歌\"     \"因\"       \"為\"       \"所以\"     \"我\"      \n",
              "[241] \"時\"       \"阿信\"     \"無\"       \"預警\"     \"開\"       \"直播\"    \n",
              "[247] \"數萬名\"   \"網友\"     \"一一\"     \"獻上\"     \"祝福\"     \"場內\"    \n",
              "[253] \"同步\"     \"播放\"     \"同樣\"     \"月\"       \"日\"       \"出生\"    \n",
              "[259] \"數名\"     \"素人\"     \"慶生\"     \"影片\"     \"最後\"     \"一幕\"    \n",
              "[265] \"今天\"     \"出生\"     \"小\"       \"嬰兒\"     \"令人\"     \"格外\"    \n",
              "[271] \"感動\"    "
            ],
            "text/latex": "\\begin{enumerate*}\n\\item '五月天'\n\\item '今'\n\\item '迎來'\n\\item '成軍'\n\\item '周年'\n\\item '紀念日'\n\\item '台南'\n\\item '最'\n\\item '終場'\n\\item '好'\n\\item '好好'\n\\item '想'\n\\item '見到'\n\\item '演唱會'\n\\item '氣氛'\n\\item '無比'\n\\item '複雜'\n\\item '歡樂中'\n\\item '帶點'\n\\item '依依不捨'\n\\item '慣性'\n\\item '脫稿'\n\\item '演出'\n\\item '他們'\n\\item '沒'\n\\item '場內'\n\\item '外'\n\\item '萬名'\n\\item '觀眾'\n\\item '失望'\n\\item '不'\n\\item '只'\n\\item '開放'\n\\item '看台區'\n\\item '觀眾'\n\\item '點歌'\n\\item '甚至'\n\\item '即興'\n\\item '加碼'\n\\item '帶來'\n\\item '歌單'\n\\item '之外'\n\\item '作品'\n\\item '另為'\n\\item '呼應'\n\\item '慶生'\n\\item '開心'\n\\item '氣氛'\n\\item '大'\n\\item '螢幕'\n\\item '特別'\n\\item '秀'\n\\item '出手'\n\\item '繪'\n\\item '海報'\n\\item '阿信'\n\\item '大方'\n\\item '應允'\n\\item '開放'\n\\item '拍照'\n\\item '分鐘'\n\\item '罕見'\n\\item '放送'\n\\item '福利'\n\\item '阿信'\n\\item '感性'\n\\item '表示'\n\\item '生日'\n\\item '那年'\n\\item '和'\n\\item '石頭'\n\\item '瑪莎'\n\\item '怪獸'\n\\item '冠'\n\\item '佑'\n\\item '位'\n\\item '團員'\n\\item '一起'\n\\item '北京'\n\\item '從沒'\n\\item '想過'\n\\item '有'\n\\item '天會'\n\\item '真的'\n\\item '太天真'\n\\item '現在'\n\\item '那'\n\\item '時候'\n\\item '想'\n\\item '五月天'\n\\item '到底'\n\\item '怎麼樣'\n\\item '這個'\n\\item '樂壇'\n\\item '不是'\n\\item '要'\n\\item '做'\n\\item '什麼'\n\\item '這'\n\\item '世界'\n\\item '做'\n\\item '什麼'\n\\item '他'\n\\item '說'\n\\item '幸好'\n\\item '他們'\n\\item '寫點'\n\\item '歌'\n\\item '玩'\n\\item '點'\n\\item '樂器'\n\\item '年'\n\\item '五月天'\n\\item '這裡'\n\\item '還有'\n\\item '這麼'\n\\item '多人'\n\\item '願意'\n\\item '來'\n\\item '聽'\n\\item '我要'\n\\item '跟'\n\\item '你們'\n\\item '說'\n\\item '五月天'\n\\item '不'\n\\item '只是'\n\\item '冠佑'\n\\item '石頭'\n\\item '怪獸'\n\\item '瑪莎'\n\\item '阿'\n\\item '信'\n\\item '還有'\n\\item '包括'\n\\item '你們'\n\\item '有'\n\\item '你們'\n\\item '加入'\n\\item '五月'\n\\item '天才'\n\\item '變得'\n\\item '完整'\n\\item '我要'\n\\item '告訴'\n\\item '你們'\n\\item '加入'\n\\item '五月天'\n\\item '永遠'\n\\item '不會'\n\\item '太遲'\n\\item '謝謝你們'\n\\item '接著'\n\\item '阿信'\n\\item '想起'\n\\item '年前'\n\\item '同一天'\n\\item '辦完'\n\\item '大安'\n\\item '森林公園'\n\\item '演唱會'\n\\item '後'\n\\item '一戰'\n\\item '成名'\n\\item '邀約'\n\\item '不斷'\n\\item '某場'\n\\item '朋友'\n\\item '朋友'\n\\item '開'\n\\item '炸雞'\n\\item '店'\n\\item '擔任'\n\\item '演出'\n\\item '嘉賓'\n\\item '不過'\n\\item '酬勞'\n\\item '不是'\n\\item '鈔票'\n\\item '而是'\n\\item '演出'\n\\item '過程'\n\\item '中'\n\\item '享用'\n\\item '無限量'\n\\item '炸雞'\n\\item '成員'\n\\item '們'\n\\item '各個'\n\\item '輪流'\n\\item '以便'\n\\item '享用'\n\\item '身為'\n\\item '主唱'\n\\item '阿信'\n\\item '沒人'\n\\item '相助'\n\\item '無奈'\n\\item '表示'\n\\item '唱'\n\\item '完'\n\\item '才'\n\\item '發現'\n\\item '為'\n\\item '什麼'\n\\item '肚子'\n\\item '還是'\n\\item '餓'\n\\item '所以'\n\\item '現在'\n\\item '就是'\n\\item '要'\n\\item '你們'\n\\item '指'\n\\item '團員'\n\\item '唱歌'\n\\item '怪獸'\n\\item '立刻'\n\\item '要求'\n\\item '他端'\n\\item '出'\n\\item '炸雞'\n\\item '瑪莎'\n\\item '幫腔'\n\\item '對'\n\\item '啊'\n\\item '至少'\n\\item '我們'\n\\item '看到'\n\\item '你吃'\n\\item '氣氛'\n\\item '歡樂'\n\\item '而當'\n\\item '他們'\n\\item '獻唱'\n\\item '新歌'\n\\item '因'\n\\item '為'\n\\item '所以'\n\\item '我'\n\\item '時'\n\\item '阿信'\n\\item '無'\n\\item '預警'\n\\item '開'\n\\item '直播'\n\\item '數萬名'\n\\item '網友'\n\\item '一一'\n\\item '獻上'\n\\item '祝福'\n\\item '場內'\n\\item '同步'\n\\item '播放'\n\\item '同樣'\n\\item '月'\n\\item '日'\n\\item '出生'\n\\item '數名'\n\\item '素人'\n\\item '慶生'\n\\item '影片'\n\\item '最後'\n\\item '一幕'\n\\item '今天'\n\\item '出生'\n\\item '小'\n\\item '嬰兒'\n\\item '令人'\n\\item '格外'\n\\item '感動'\n\\end{enumerate*}\n",
            "text/markdown": "1. '五月天'\n2. '今'\n3. '迎來'\n4. '成軍'\n5. '周年'\n6. '紀念日'\n7. '台南'\n8. '最'\n9. '終場'\n10. '好'\n11. '好好'\n12. '想'\n13. '見到'\n14. '演唱會'\n15. '氣氛'\n16. '無比'\n17. '複雜'\n18. '歡樂中'\n19. '帶點'\n20. '依依不捨'\n21. '慣性'\n22. '脫稿'\n23. '演出'\n24. '他們'\n25. '沒'\n26. '場內'\n27. '外'\n28. '萬名'\n29. '觀眾'\n30. '失望'\n31. '不'\n32. '只'\n33. '開放'\n34. '看台區'\n35. '觀眾'\n36. '點歌'\n37. '甚至'\n38. '即興'\n39. '加碼'\n40. '帶來'\n41. '歌單'\n42. '之外'\n43. '作品'\n44. '另為'\n45. '呼應'\n46. '慶生'\n47. '開心'\n48. '氣氛'\n49. '大'\n50. '螢幕'\n51. '特別'\n52. '秀'\n53. '出手'\n54. '繪'\n55. '海報'\n56. '阿信'\n57. '大方'\n58. '應允'\n59. '開放'\n60. '拍照'\n61. '分鐘'\n62. '罕見'\n63. '放送'\n64. '福利'\n65. '阿信'\n66. '感性'\n67. '表示'\n68. '生日'\n69. '那年'\n70. '和'\n71. '石頭'\n72. '瑪莎'\n73. '怪獸'\n74. '冠'\n75. '佑'\n76. '位'\n77. '團員'\n78. '一起'\n79. '北京'\n80. '從沒'\n81. '想過'\n82. '有'\n83. '天會'\n84. '真的'\n85. '太天真'\n86. '現在'\n87. '那'\n88. '時候'\n89. '想'\n90. '五月天'\n91. '到底'\n92. '怎麼樣'\n93. '這個'\n94. '樂壇'\n95. '不是'\n96. '要'\n97. '做'\n98. '什麼'\n99. '這'\n100. '世界'\n101. '做'\n102. '什麼'\n103. '他'\n104. '說'\n105. '幸好'\n106. '他們'\n107. '寫點'\n108. '歌'\n109. '玩'\n110. '點'\n111. '樂器'\n112. '年'\n113. '五月天'\n114. '這裡'\n115. '還有'\n116. '這麼'\n117. '多人'\n118. '願意'\n119. '來'\n120. '聽'\n121. '我要'\n122. '跟'\n123. '你們'\n124. '說'\n125. '五月天'\n126. '不'\n127. '只是'\n128. '冠佑'\n129. '石頭'\n130. '怪獸'\n131. '瑪莎'\n132. '阿'\n133. '信'\n134. '還有'\n135. '包括'\n136. '你們'\n137. '有'\n138. '你們'\n139. '加入'\n140. '五月'\n141. '天才'\n142. '變得'\n143. '完整'\n144. '我要'\n145. '告訴'\n146. '你們'\n147. '加入'\n148. '五月天'\n149. '永遠'\n150. '不會'\n151. '太遲'\n152. '謝謝你們'\n153. '接著'\n154. '阿信'\n155. '想起'\n156. '年前'\n157. '同一天'\n158. '辦完'\n159. '大安'\n160. '森林公園'\n161. '演唱會'\n162. '後'\n163. '一戰'\n164. '成名'\n165. '邀約'\n166. '不斷'\n167. '某場'\n168. '朋友'\n169. '朋友'\n170. '開'\n171. '炸雞'\n172. '店'\n173. '擔任'\n174. '演出'\n175. '嘉賓'\n176. '不過'\n177. '酬勞'\n178. '不是'\n179. '鈔票'\n180. '而是'\n181. '演出'\n182. '過程'\n183. '中'\n184. '享用'\n185. '無限量'\n186. '炸雞'\n187. '成員'\n188. '們'\n189. '各個'\n190. '輪流'\n191. '以便'\n192. '享用'\n193. '身為'\n194. '主唱'\n195. '阿信'\n196. '沒人'\n197. '相助'\n198. '無奈'\n199. '表示'\n200. '唱'\n201. '完'\n202. '才'\n203. '發現'\n204. '為'\n205. '什麼'\n206. '肚子'\n207. '還是'\n208. '餓'\n209. '所以'\n210. '現在'\n211. '就是'\n212. '要'\n213. '你們'\n214. '指'\n215. '團員'\n216. '唱歌'\n217. '怪獸'\n218. '立刻'\n219. '要求'\n220. '他端'\n221. '出'\n222. '炸雞'\n223. '瑪莎'\n224. '幫腔'\n225. '對'\n226. '啊'\n227. '至少'\n228. '我們'\n229. '看到'\n230. '你吃'\n231. '氣氛'\n232. '歡樂'\n233. '而當'\n234. '他們'\n235. '獻唱'\n236. '新歌'\n237. '因'\n238. '為'\n239. '所以'\n240. '我'\n241. '時'\n242. '阿信'\n243. '無'\n244. '預警'\n245. '開'\n246. '直播'\n247. '數萬名'\n248. '網友'\n249. '一一'\n250. '獻上'\n251. '祝福'\n252. '場內'\n253. '同步'\n254. '播放'\n255. '同樣'\n256. '月'\n257. '日'\n258. '出生'\n259. '數名'\n260. '素人'\n261. '慶生'\n262. '影片'\n263. '最後'\n264. '一幕'\n265. '今天'\n266. '出生'\n267. '小'\n268. '嬰兒'\n269. '令人'\n270. '格外'\n271. '感動'\n\n\n",
            "text/html": [
              "<style>\n",
              ".list-inline {list-style: none; margin:0; padding: 0}\n",
              ".list-inline>li {display: inline-block}\n",
              ".list-inline>li:not(:last-child)::after {content: \"\\00b7\"; padding: 0 .5ex}\n",
              "</style>\n",
              "<ol class=list-inline><li>'五月天'</li><li>'今'</li><li>'迎來'</li><li>'成軍'</li><li>'周年'</li><li>'紀念日'</li><li>'台南'</li><li>'最'</li><li>'終場'</li><li>'好'</li><li>'好好'</li><li>'想'</li><li>'見到'</li><li>'演唱會'</li><li>'氣氛'</li><li>'無比'</li><li>'複雜'</li><li>'歡樂中'</li><li>'帶點'</li><li>'依依不捨'</li><li>'慣性'</li><li>'脫稿'</li><li>'演出'</li><li>'他們'</li><li>'沒'</li><li>'場內'</li><li>'外'</li><li>'萬名'</li><li>'觀眾'</li><li>'失望'</li><li>'不'</li><li>'只'</li><li>'開放'</li><li>'看台區'</li><li>'觀眾'</li><li>'點歌'</li><li>'甚至'</li><li>'即興'</li><li>'加碼'</li><li>'帶來'</li><li>'歌單'</li><li>'之外'</li><li>'作品'</li><li>'另為'</li><li>'呼應'</li><li>'慶生'</li><li>'開心'</li><li>'氣氛'</li><li>'大'</li><li>'螢幕'</li><li>'特別'</li><li>'秀'</li><li>'出手'</li><li>'繪'</li><li>'海報'</li><li>'阿信'</li><li>'大方'</li><li>'應允'</li><li>'開放'</li><li>'拍照'</li><li>'分鐘'</li><li>'罕見'</li><li>'放送'</li><li>'福利'</li><li>'阿信'</li><li>'感性'</li><li>'表示'</li><li>'生日'</li><li>'那年'</li><li>'和'</li><li>'石頭'</li><li>'瑪莎'</li><li>'怪獸'</li><li>'冠'</li><li>'佑'</li><li>'位'</li><li>'團員'</li><li>'一起'</li><li>'北京'</li><li>'從沒'</li><li>'想過'</li><li>'有'</li><li>'天會'</li><li>'真的'</li><li>'太天真'</li><li>'現在'</li><li>'那'</li><li>'時候'</li><li>'想'</li><li>'五月天'</li><li>'到底'</li><li>'怎麼樣'</li><li>'這個'</li><li>'樂壇'</li><li>'不是'</li><li>'要'</li><li>'做'</li><li>'什麼'</li><li>'這'</li><li>'世界'</li><li>'做'</li><li>'什麼'</li><li>'他'</li><li>'說'</li><li>'幸好'</li><li>'他們'</li><li>'寫點'</li><li>'歌'</li><li>'玩'</li><li>'點'</li><li>'樂器'</li><li>'年'</li><li>'五月天'</li><li>'這裡'</li><li>'還有'</li><li>'這麼'</li><li>'多人'</li><li>'願意'</li><li>'來'</li><li>'聽'</li><li>'我要'</li><li>'跟'</li><li>'你們'</li><li>'說'</li><li>'五月天'</li><li>'不'</li><li>'只是'</li><li>'冠佑'</li><li>'石頭'</li><li>'怪獸'</li><li>'瑪莎'</li><li>'阿'</li><li>'信'</li><li>'還有'</li><li>'包括'</li><li>'你們'</li><li>'有'</li><li>'你們'</li><li>'加入'</li><li>'五月'</li><li>'天才'</li><li>'變得'</li><li>'完整'</li><li>'我要'</li><li>'告訴'</li><li>'你們'</li><li>'加入'</li><li>'五月天'</li><li>'永遠'</li><li>'不會'</li><li>'太遲'</li><li>'謝謝你們'</li><li>'接著'</li><li>'阿信'</li><li>'想起'</li><li>'年前'</li><li>'同一天'</li><li>'辦完'</li><li>'大安'</li><li>'森林公園'</li><li>'演唱會'</li><li>'後'</li><li>'一戰'</li><li>'成名'</li><li>'邀約'</li><li>'不斷'</li><li>'某場'</li><li>'朋友'</li><li>'朋友'</li><li>'開'</li><li>'炸雞'</li><li>'店'</li><li>'擔任'</li><li>'演出'</li><li>'嘉賓'</li><li>'不過'</li><li>'酬勞'</li><li>'不是'</li><li>'鈔票'</li><li>'而是'</li><li>'演出'</li><li>'過程'</li><li>'中'</li><li>'享用'</li><li>'無限量'</li><li>'炸雞'</li><li>'成員'</li><li>'們'</li><li>'各個'</li><li>'輪流'</li><li>'以便'</li><li>'享用'</li><li>'身為'</li><li>'主唱'</li><li>'阿信'</li><li>'沒人'</li><li>'相助'</li><li>'無奈'</li><li>'表示'</li><li>'唱'</li><li>'完'</li><li>'才'</li><li>'發現'</li><li>'為'</li><li>'什麼'</li><li>'肚子'</li><li>'還是'</li><li>'餓'</li><li>'所以'</li><li>'現在'</li><li>'就是'</li><li>'要'</li><li>'你們'</li><li>'指'</li><li>'團員'</li><li>'唱歌'</li><li>'怪獸'</li><li>'立刻'</li><li>'要求'</li><li>'他端'</li><li>'出'</li><li>'炸雞'</li><li>'瑪莎'</li><li>'幫腔'</li><li>'對'</li><li>'啊'</li><li>'至少'</li><li>'我們'</li><li>'看到'</li><li>'你吃'</li><li>'氣氛'</li><li>'歡樂'</li><li>'而當'</li><li>'他們'</li><li>'獻唱'</li><li>'新歌'</li><li>'因'</li><li>'為'</li><li>'所以'</li><li>'我'</li><li>'時'</li><li>'阿信'</li><li>'無'</li><li>'預警'</li><li>'開'</li><li>'直播'</li><li>'數萬名'</li><li>'網友'</li><li>'一一'</li><li>'獻上'</li><li>'祝福'</li><li>'場內'</li><li>'同步'</li><li>'播放'</li><li>'同樣'</li><li>'月'</li><li>'日'</li><li>'出生'</li><li>'數名'</li><li>'素人'</li><li>'慶生'</li><li>'影片'</li><li>'最後'</li><li>'一幕'</li><li>'今天'</li><li>'出生'</li><li>'小'</li><li>'嬰兒'</li><li>'令人'</li><li>'格外'</li><li>'感動'</li></ol>\n"
            ]
          },
          "metadata": {
            "tags": []
          }
        }
      ]
    },
    {
      "cell_type": "code",
      "metadata": {
        "colab": {
          "base_uri": "https://localhost:8080/",
          "height": 269
        },
        "id": "nfbSLVAGTOjo",
        "outputId": "949db877-71cb-485f-db62-d7bb3420141a"
      },
      "source": [
        "#計算詞彙頻率\n",
        "txt_freq <- freq(seg_words)\n",
        "#由大到小排列\n",
        "txt_freq <- arrange(txt_freq,desc(freq))\n",
        "#檢查前5名\n",
        "head(txt_freq)"
      ],
      "execution_count": 96,
      "outputs": [
        {
          "output_type": "display_data",
          "data": {
            "text/plain": [
              "  char   freq\n",
              "1 五月天 5   \n",
              "2 你們   5   \n",
              "3 阿信   5   \n",
              "4 演出   3   \n",
              "5 瑪莎   3   \n",
              "6 氣氛   3   "
            ],
            "text/latex": "A data.frame: 6 × 2\n\\begin{tabular}{r|ll}\n  & char & freq\\\\\n  & <chr> & <dbl>\\\\\n\\hline\n\t1 & 五月天 & 5\\\\\n\t2 & 你們   & 5\\\\\n\t3 & 阿信   & 5\\\\\n\t4 & 演出   & 3\\\\\n\t5 & 瑪莎   & 3\\\\\n\t6 & 氣氛   & 3\\\\\n\\end{tabular}\n",
            "text/markdown": "\nA data.frame: 6 × 2\n\n| <!--/--> | char &lt;chr&gt; | freq &lt;dbl&gt; |\n|---|---|---|\n| 1 | 五月天 | 5 |\n| 2 | 你們   | 5 |\n| 3 | 阿信   | 5 |\n| 4 | 演出   | 3 |\n| 5 | 瑪莎   | 3 |\n| 6 | 氣氛   | 3 |\n\n",
            "text/html": [
              "<table class=\"dataframe\">\n",
              "<caption>A data.frame: 6 × 2</caption>\n",
              "<thead>\n",
              "\t<tr><th></th><th scope=col>char</th><th scope=col>freq</th></tr>\n",
              "\t<tr><th></th><th scope=col>&lt;chr&gt;</th><th scope=col>&lt;dbl&gt;</th></tr>\n",
              "</thead>\n",
              "<tbody>\n",
              "\t<tr><th scope=row>1</th><td>五月天</td><td>5</td></tr>\n",
              "\t<tr><th scope=row>2</th><td>你們  </td><td>5</td></tr>\n",
              "\t<tr><th scope=row>3</th><td>阿信  </td><td>5</td></tr>\n",
              "\t<tr><th scope=row>4</th><td>演出  </td><td>3</td></tr>\n",
              "\t<tr><th scope=row>5</th><td>瑪莎  </td><td>3</td></tr>\n",
              "\t<tr><th scope=row>6</th><td>氣氛  </td><td>3</td></tr>\n",
              "</tbody>\n",
              "</table>\n"
            ]
          },
          "metadata": {
            "tags": []
          }
        }
      ]
    },
    {
      "cell_type": "code",
      "metadata": {
        "colab": {
          "base_uri": "https://localhost:8080/",
          "height": 1000
        },
        "id": "DJjZj7WpT6-4",
        "outputId": "5162411c-7389-410b-c6a6-84f985c5d618"
      },
      "source": [
        "par(family=(\"Microsoft YaHei\"))#wordcloud需要定義字體，不然會無法顯示中文\n",
        "#文字雲(pkg:wordcloud)\n",
        "wordcloud(txt_freq$char,txt_freq$freq,min.freq = 2,random.order = F,ordered.colors = F,colors=rainbow(nrow(txt_freq)))"
      ],
      "execution_count": 101,
      "outputs": [
        {
          "output_type": "stream",
          "text": [
            "Warning message in strwidth(words[i], cex = size[i], ...):\n",
            "“font family 'Microsoft YaHei' not found, will use 'wqy-microhei' instead”\n",
            "Warning message in strheight(words[i], cex = size[i], ...):\n",
            "“font family 'Microsoft YaHei' not found, will use 'sans' instead”\n",
            "Warning message in text.default(x1, y1, words[i], cex = size[i], offset = 0, srt = rotWord * :\n",
            "“font family 'Microsoft YaHei' not found, will use 'wqy-microhei' instead”\n",
            "Warning message in text.default(x1, y1, words[i], cex = size[i], offset = 0, srt = rotWord * :\n",
            "“font family 'Microsoft YaHei' not found, will use 'wqy-microhei' instead”\n",
            "Warning message in text.default(x1, y1, words[i], cex = size[i], offset = 0, srt = rotWord * :\n",
            "“font family 'Microsoft YaHei' not found, will use 'wqy-microhei' instead”\n",
            "Warning message in text.default(x1, y1, words[i], cex = size[i], offset = 0, srt = rotWord * :\n",
            "“font family 'Microsoft YaHei' not found, will use 'wqy-microhei' instead”\n",
            "Warning message in text.default(x1, y1, words[i], cex = size[i], offset = 0, srt = rotWord * :\n",
            "“font family 'Microsoft YaHei' not found, will use 'wqy-microhei' instead”\n",
            "Warning message in strwidth(words[i], cex = size[i], ...):\n",
            "“font family 'Microsoft YaHei' not found, will use 'wqy-microhei' instead”\n",
            "Warning message in text.default(x1, y1, words[i], cex = size[i], offset = 0, srt = rotWord * :\n",
            "“font family 'Microsoft YaHei' not found, will use 'wqy-microhei' instead”\n",
            "Warning message in text.default(x1, y1, words[i], cex = size[i], offset = 0, srt = rotWord * :\n",
            "“font family 'Microsoft YaHei' not found, will use 'wqy-microhei' instead”\n",
            "Warning message in text.default(x1, y1, words[i], cex = size[i], offset = 0, srt = rotWord * :\n",
            "“font family 'Microsoft YaHei' not found, will use 'wqy-microhei' instead”\n",
            "Warning message in text.default(x1, y1, words[i], cex = size[i], offset = 0, srt = rotWord * :\n",
            "“font family 'Microsoft YaHei' not found, will use 'wqy-microhei' instead”\n",
            "Warning message in strwidth(words[i], cex = size[i], ...):\n",
            "“font family 'Microsoft YaHei' not found, will use 'wqy-microhei' instead”\n",
            "Warning message in text.default(x1, y1, words[i], cex = size[i], offset = 0, srt = rotWord * :\n",
            "“font family 'Microsoft YaHei' not found, will use 'wqy-microhei' instead”\n",
            "Warning message in text.default(x1, y1, words[i], cex = size[i], offset = 0, srt = rotWord * :\n",
            "“font family 'Microsoft YaHei' not found, will use 'wqy-microhei' instead”\n",
            "Warning message in text.default(x1, y1, words[i], cex = size[i], offset = 0, srt = rotWord * :\n",
            "“font family 'Microsoft YaHei' not found, will use 'wqy-microhei' instead”\n",
            "Warning message in text.default(x1, y1, words[i], cex = size[i], offset = 0, srt = rotWord * :\n",
            "“font family 'Microsoft YaHei' not found, will use 'wqy-microhei' instead”\n",
            "Warning message in strwidth(words[i], cex = size[i], ...):\n",
            "“font family 'Microsoft YaHei' not found, will use 'wqy-microhei' instead”\n",
            "Warning message in strheight(words[i], cex = size[i], ...):\n",
            "“font family 'Microsoft YaHei' not found, will use 'sans' instead”\n",
            "Warning message in text.default(x1, y1, words[i], cex = size[i], offset = 0, srt = rotWord * :\n",
            "“font family 'Microsoft YaHei' not found, will use 'wqy-microhei' instead”\n",
            "Warning message in text.default(x1, y1, words[i], cex = size[i], offset = 0, srt = rotWord * :\n",
            "“font family 'Microsoft YaHei' not found, will use 'wqy-microhei' instead”\n",
            "Warning message in text.default(x1, y1, words[i], cex = size[i], offset = 0, srt = rotWord * :\n",
            "“font family 'Microsoft YaHei' not found, will use 'wqy-microhei' instead”\n",
            "Warning message in text.default(x1, y1, words[i], cex = size[i], offset = 0, srt = rotWord * :\n",
            "“font family 'Microsoft YaHei' not found, will use 'wqy-microhei' instead”\n",
            "Warning message in strwidth(words[i], cex = size[i], ...):\n",
            "“font family 'Microsoft YaHei' not found, will use 'wqy-microhei' instead”\n",
            "Warning message in text.default(x1, y1, words[i], cex = size[i], offset = 0, srt = rotWord * :\n",
            "“font family 'Microsoft YaHei' not found, will use 'wqy-microhei' instead”\n",
            "Warning message in text.default(x1, y1, words[i], cex = size[i], offset = 0, srt = rotWord * :\n",
            "“font family 'Microsoft YaHei' not found, will use 'wqy-microhei' instead”\n",
            "Warning message in text.default(x1, y1, words[i], cex = size[i], offset = 0, srt = rotWord * :\n",
            "“font family 'Microsoft YaHei' not found, will use 'wqy-microhei' instead”\n",
            "Warning message in text.default(x1, y1, words[i], cex = size[i], offset = 0, srt = rotWord * :\n",
            "“font family 'Microsoft YaHei' not found, will use 'wqy-microhei' instead”\n",
            "Warning message in strwidth(words[i], cex = size[i], ...):\n",
            "“font family 'Microsoft YaHei' not found, will use 'wqy-microhei' instead”\n",
            "Warning message in text.default(x1, y1, words[i], cex = size[i], offset = 0, srt = rotWord * :\n",
            "“font family 'Microsoft YaHei' not found, will use 'wqy-microhei' instead”\n",
            "Warning message in text.default(x1, y1, words[i], cex = size[i], offset = 0, srt = rotWord * :\n",
            "“font family 'Microsoft YaHei' not found, will use 'wqy-microhei' instead”\n",
            "Warning message in text.default(x1, y1, words[i], cex = size[i], offset = 0, srt = rotWord * :\n",
            "“font family 'Microsoft YaHei' not found, will use 'wqy-microhei' instead”\n",
            "Warning message in text.default(x1, y1, words[i], cex = size[i], offset = 0, srt = rotWord * :\n",
            "“font family 'Microsoft YaHei' not found, will use 'wqy-microhei' instead”\n",
            "Warning message in strwidth(words[i], cex = size[i], ...):\n",
            "“font family 'Microsoft YaHei' not found, will use 'wqy-microhei' instead”\n",
            "Warning message in text.default(x1, y1, words[i], cex = size[i], offset = 0, srt = rotWord * :\n",
            "“font family 'Microsoft YaHei' not found, will use 'wqy-microhei' instead”\n",
            "Warning message in text.default(x1, y1, words[i], cex = size[i], offset = 0, srt = rotWord * :\n",
            "“font family 'Microsoft YaHei' not found, will use 'wqy-microhei' instead”\n",
            "Warning message in text.default(x1, y1, words[i], cex = size[i], offset = 0, srt = rotWord * :\n",
            "“font family 'Microsoft YaHei' not found, will use 'wqy-microhei' instead”\n",
            "Warning message in text.default(x1, y1, words[i], cex = size[i], offset = 0, srt = rotWord * :\n",
            "“font family 'Microsoft YaHei' not found, will use 'wqy-microhei' instead”\n",
            "Warning message in strwidth(words[i], cex = size[i], ...):\n",
            "“font family 'Microsoft YaHei' not found, will use 'wqy-microhei' instead”\n",
            "Warning message in text.default(x1, y1, words[i], cex = size[i], offset = 0, srt = rotWord * :\n",
            "“font family 'Microsoft YaHei' not found, will use 'wqy-microhei' instead”\n",
            "Warning message in text.default(x1, y1, words[i], cex = size[i], offset = 0, srt = rotWord * :\n",
            "“font family 'Microsoft YaHei' not found, will use 'wqy-microhei' instead”\n",
            "Warning message in text.default(x1, y1, words[i], cex = size[i], offset = 0, srt = rotWord * :\n",
            "“font family 'Microsoft YaHei' not found, will use 'wqy-microhei' instead”\n",
            "Warning message in text.default(x1, y1, words[i], cex = size[i], offset = 0, srt = rotWord * :\n",
            "“font family 'Microsoft YaHei' not found, will use 'wqy-microhei' instead”\n",
            "Warning message in strwidth(words[i], cex = size[i], ...):\n",
            "“font family 'Microsoft YaHei' not found, will use 'wqy-microhei' instead”\n",
            "Warning message in text.default(x1, y1, words[i], cex = size[i], offset = 0, srt = rotWord * :\n",
            "“font family 'Microsoft YaHei' not found, will use 'wqy-microhei' instead”\n",
            "Warning message in text.default(x1, y1, words[i], cex = size[i], offset = 0, srt = rotWord * :\n",
            "“font family 'Microsoft YaHei' not found, will use 'wqy-microhei' instead”\n",
            "Warning message in text.default(x1, y1, words[i], cex = size[i], offset = 0, srt = rotWord * :\n",
            "“font family 'Microsoft YaHei' not found, will use 'wqy-microhei' instead”\n",
            "Warning message in text.default(x1, y1, words[i], cex = size[i], offset = 0, srt = rotWord * :\n",
            "“font family 'Microsoft YaHei' not found, will use 'wqy-microhei' instead”\n",
            "Warning message in strwidth(words[i], cex = size[i], ...):\n",
            "“font family 'Microsoft YaHei' not found, will use 'wqy-microhei' instead”\n",
            "Warning message in text.default(x1, y1, words[i], cex = size[i], offset = 0, srt = rotWord * :\n",
            "“font family 'Microsoft YaHei' not found, will use 'wqy-microhei' instead”\n",
            "Warning message in text.default(x1, y1, words[i], cex = size[i], offset = 0, srt = rotWord * :\n",
            "“font family 'Microsoft YaHei' not found, will use 'wqy-microhei' instead”\n",
            "Warning message in text.default(x1, y1, words[i], cex = size[i], offset = 0, srt = rotWord * :\n",
            "“font family 'Microsoft YaHei' not found, will use 'wqy-microhei' instead”\n",
            "Warning message in text.default(x1, y1, words[i], cex = size[i], offset = 0, srt = rotWord * :\n",
            "“font family 'Microsoft YaHei' not found, will use 'wqy-microhei' instead”\n",
            "Warning message in strwidth(words[i], cex = size[i], ...):\n",
            "“font family 'Microsoft YaHei' not found, will use 'wqy-microhei' instead”\n",
            "Warning message in strheight(words[i], cex = size[i], ...):\n",
            "“font family 'Microsoft YaHei' not found, will use 'sans' instead”\n",
            "Warning message in text.default(x1, y1, words[i], cex = size[i], offset = 0, srt = rotWord * :\n",
            "“font family 'Microsoft YaHei' not found, will use 'wqy-microhei' instead”\n",
            "Warning message in text.default(x1, y1, words[i], cex = size[i], offset = 0, srt = rotWord * :\n",
            "“font family 'Microsoft YaHei' not found, will use 'wqy-microhei' instead”\n",
            "Warning message in text.default(x1, y1, words[i], cex = size[i], offset = 0, srt = rotWord * :\n",
            "“font family 'Microsoft YaHei' not found, will use 'wqy-microhei' instead”\n",
            "Warning message in text.default(x1, y1, words[i], cex = size[i], offset = 0, srt = rotWord * :\n",
            "“font family 'Microsoft YaHei' not found, will use 'wqy-microhei' instead”\n",
            "Warning message in strwidth(words[i], cex = size[i], ...):\n",
            "“font family 'Microsoft YaHei' not found, will use 'wqy-microhei' instead”\n",
            "Warning message in text.default(x1, y1, words[i], cex = size[i], offset = 0, srt = rotWord * :\n",
            "“font family 'Microsoft YaHei' not found, will use 'wqy-microhei' instead”\n",
            "Warning message in text.default(x1, y1, words[i], cex = size[i], offset = 0, srt = rotWord * :\n",
            "“font family 'Microsoft YaHei' not found, will use 'wqy-microhei' instead”\n",
            "Warning message in text.default(x1, y1, words[i], cex = size[i], offset = 0, srt = rotWord * :\n",
            "“font family 'Microsoft YaHei' not found, will use 'wqy-microhei' instead”\n",
            "Warning message in strwidth(words[i], cex = size[i], ...):\n",
            "“font family 'Microsoft YaHei' not found, will use 'wqy-microhei' instead”\n",
            "Warning message in text.default(x1, y1, words[i], cex = size[i], offset = 0, srt = rotWord * :\n",
            "“font family 'Microsoft YaHei' not found, will use 'wqy-microhei' instead”\n",
            "Warning message in text.default(x1, y1, words[i], cex = size[i], offset = 0, srt = rotWord * :\n",
            "“font family 'Microsoft YaHei' not found, will use 'wqy-microhei' instead”\n",
            "Warning message in text.default(x1, y1, words[i], cex = size[i], offset = 0, srt = rotWord * :\n",
            "“font family 'Microsoft YaHei' not found, will use 'wqy-microhei' instead”\n",
            "Warning message in text.default(x1, y1, words[i], cex = size[i], offset = 0, srt = rotWord * :\n",
            "“font family 'Microsoft YaHei' not found, will use 'wqy-microhei' instead”\n",
            "Warning message in strwidth(words[i], cex = size[i], ...):\n",
            "“font family 'Microsoft YaHei' not found, will use 'wqy-microhei' instead”\n",
            "Warning message in text.default(x1, y1, words[i], cex = size[i], offset = 0, srt = rotWord * :\n",
            "“font family 'Microsoft YaHei' not found, will use 'wqy-microhei' instead”\n",
            "Warning message in text.default(x1, y1, words[i], cex = size[i], offset = 0, srt = rotWord * :\n",
            "“font family 'Microsoft YaHei' not found, will use 'wqy-microhei' instead”\n",
            "Warning message in text.default(x1, y1, words[i], cex = size[i], offset = 0, srt = rotWord * :\n",
            "“font family 'Microsoft YaHei' not found, will use 'wqy-microhei' instead”\n",
            "Warning message in text.default(x1, y1, words[i], cex = size[i], offset = 0, srt = rotWord * :\n",
            "“font family 'Microsoft YaHei' not found, will use 'wqy-microhei' instead”\n",
            "Warning message in strwidth(words[i], cex = size[i], ...):\n",
            "“font family 'Microsoft YaHei' not found, will use 'wqy-microhei' instead”\n",
            "Warning message in text.default(x1, y1, words[i], cex = size[i], offset = 0, srt = rotWord * :\n",
            "“font family 'Microsoft YaHei' not found, will use 'wqy-microhei' instead”\n",
            "Warning message in text.default(x1, y1, words[i], cex = size[i], offset = 0, srt = rotWord * :\n",
            "“font family 'Microsoft YaHei' not found, will use 'wqy-microhei' instead”\n",
            "Warning message in text.default(x1, y1, words[i], cex = size[i], offset = 0, srt = rotWord * :\n",
            "“font family 'Microsoft YaHei' not found, will use 'wqy-microhei' instead”\n",
            "Warning message in text.default(x1, y1, words[i], cex = size[i], offset = 0, srt = rotWord * :\n",
            "“font family 'Microsoft YaHei' not found, will use 'wqy-microhei' instead”\n",
            "Warning message in strwidth(words[i], cex = size[i], ...):\n",
            "“font family 'Microsoft YaHei' not found, will use 'wqy-microhei' instead”\n",
            "Warning message in text.default(x1, y1, words[i], cex = size[i], offset = 0, srt = rotWord * :\n",
            "“font family 'Microsoft YaHei' not found, will use 'wqy-microhei' instead”\n",
            "Warning message in text.default(x1, y1, words[i], cex = size[i], offset = 0, srt = rotWord * :\n",
            "“font family 'Microsoft YaHei' not found, will use 'wqy-microhei' instead”\n",
            "Warning message in text.default(x1, y1, words[i], cex = size[i], offset = 0, srt = rotWord * :\n",
            "“font family 'Microsoft YaHei' not found, will use 'wqy-microhei' instead”\n",
            "Warning message in text.default(x1, y1, words[i], cex = size[i], offset = 0, srt = rotWord * :\n",
            "“font family 'Microsoft YaHei' not found, will use 'wqy-microhei' instead”\n",
            "Warning message in text.default(x1, y1, words[i], cex = size[i], offset = 0, srt = rotWord * :\n",
            "“font family 'Microsoft YaHei' not found, will use 'wqy-microhei' instead”\n",
            "Warning message in strwidth(words[i], cex = size[i], ...):\n",
            "“font family 'Microsoft YaHei' not found, will use 'wqy-microhei' instead”\n",
            "Warning message in text.default(x1, y1, words[i], cex = size[i], offset = 0, srt = rotWord * :\n",
            "“font family 'Microsoft YaHei' not found, will use 'wqy-microhei' instead”\n",
            "Warning message in text.default(x1, y1, words[i], cex = size[i], offset = 0, srt = rotWord * :\n",
            "“font family 'Microsoft YaHei' not found, will use 'wqy-microhei' instead”\n",
            "Warning message in text.default(x1, y1, words[i], cex = size[i], offset = 0, srt = rotWord * :\n",
            "“font family 'Microsoft YaHei' not found, will use 'wqy-microhei' instead”\n",
            "Warning message in strwidth(words[i], cex = size[i], ...):\n",
            "“font family 'Microsoft YaHei' not found, will use 'wqy-microhei' instead”\n",
            "Warning message in text.default(x1, y1, words[i], cex = size[i], offset = 0, srt = rotWord * :\n",
            "“font family 'Microsoft YaHei' not found, will use 'wqy-microhei' instead”\n",
            "Warning message in text.default(x1, y1, words[i], cex = size[i], offset = 0, srt = rotWord * :\n",
            "“font family 'Microsoft YaHei' not found, will use 'wqy-microhei' instead”\n",
            "Warning message in text.default(x1, y1, words[i], cex = size[i], offset = 0, srt = rotWord * :\n",
            "“font family 'Microsoft YaHei' not found, will use 'wqy-microhei' instead”\n",
            "Warning message in text.default(x1, y1, words[i], cex = size[i], offset = 0, srt = rotWord * :\n",
            "“font family 'Microsoft YaHei' not found, will use 'wqy-microhei' instead”\n",
            "Warning message in strwidth(words[i], cex = size[i], ...):\n",
            "“font family 'Microsoft YaHei' not found, will use 'wqy-microhei' instead”\n",
            "Warning message in text.default(x1, y1, words[i], cex = size[i], offset = 0, srt = rotWord * :\n",
            "“font family 'Microsoft YaHei' not found, will use 'wqy-microhei' instead”\n",
            "Warning message in text.default(x1, y1, words[i], cex = size[i], offset = 0, srt = rotWord * :\n",
            "“font family 'Microsoft YaHei' not found, will use 'wqy-microhei' instead”\n",
            "Warning message in text.default(x1, y1, words[i], cex = size[i], offset = 0, srt = rotWord * :\n",
            "“font family 'Microsoft YaHei' not found, will use 'wqy-microhei' instead”\n",
            "Warning message in strwidth(words[i], cex = size[i], ...):\n",
            "“font family 'Microsoft YaHei' not found, will use 'wqy-microhei' instead”\n",
            "Warning message in text.default(x1, y1, words[i], cex = size[i], offset = 0, srt = rotWord * :\n",
            "“font family 'Microsoft YaHei' not found, will use 'wqy-microhei' instead”\n",
            "Warning message in text.default(x1, y1, words[i], cex = size[i], offset = 0, srt = rotWord * :\n",
            "“font family 'Microsoft YaHei' not found, will use 'wqy-microhei' instead”\n",
            "Warning message in text.default(x1, y1, words[i], cex = size[i], offset = 0, srt = rotWord * :\n",
            "“font family 'Microsoft YaHei' not found, will use 'wqy-microhei' instead”\n",
            "Warning message in strwidth(words[i], cex = size[i], ...):\n",
            "“font family 'Microsoft YaHei' not found, will use 'wqy-microhei' instead”\n",
            "Warning message in text.default(x1, y1, words[i], cex = size[i], offset = 0, srt = rotWord * :\n",
            "“font family 'Microsoft YaHei' not found, will use 'wqy-microhei' instead”\n",
            "Warning message in text.default(x1, y1, words[i], cex = size[i], offset = 0, srt = rotWord * :\n",
            "“font family 'Microsoft YaHei' not found, will use 'wqy-microhei' instead”\n",
            "Warning message in text.default(x1, y1, words[i], cex = size[i], offset = 0, srt = rotWord * :\n",
            "“font family 'Microsoft YaHei' not found, will use 'wqy-microhei' instead”\n",
            "Warning message in strwidth(words[i], cex = size[i], ...):\n",
            "“font family 'Microsoft YaHei' not found, will use 'wqy-microhei' instead”\n",
            "Warning message in text.default(x1, y1, words[i], cex = size[i], offset = 0, srt = rotWord * :\n",
            "“font family 'Microsoft YaHei' not found, will use 'wqy-microhei' instead”\n",
            "Warning message in text.default(x1, y1, words[i], cex = size[i], offset = 0, srt = rotWord * :\n",
            "“font family 'Microsoft YaHei' not found, will use 'wqy-microhei' instead”\n",
            "Warning message in text.default(x1, y1, words[i], cex = size[i], offset = 0, srt = rotWord * :\n",
            "“font family 'Microsoft YaHei' not found, will use 'wqy-microhei' instead”\n",
            "Warning message in text.default(x1, y1, words[i], cex = size[i], offset = 0, srt = rotWord * :\n",
            "“font family 'Microsoft YaHei' not found, will use 'wqy-microhei' instead”\n",
            "Warning message in strwidth(words[i], cex = size[i], ...):\n",
            "“font family 'Microsoft YaHei' not found, will use 'wqy-microhei' instead”\n",
            "Warning message in text.default(x1, y1, words[i], cex = size[i], offset = 0, srt = rotWord * :\n",
            "“font family 'Microsoft YaHei' not found, will use 'wqy-microhei' instead”\n",
            "Warning message in text.default(x1, y1, words[i], cex = size[i], offset = 0, srt = rotWord * :\n",
            "“font family 'Microsoft YaHei' not found, will use 'wqy-microhei' instead”\n",
            "Warning message in text.default(x1, y1, words[i], cex = size[i], offset = 0, srt = rotWord * :\n",
            "“font family 'Microsoft YaHei' not found, will use 'wqy-microhei' instead”\n",
            "Warning message in text.default(x1, y1, words[i], cex = size[i], offset = 0, srt = rotWord * :\n",
            "“font family 'Microsoft YaHei' not found, will use 'wqy-microhei' instead”\n",
            "Warning message in strwidth(words[i], cex = size[i], ...):\n",
            "“font family 'Microsoft YaHei' not found, will use 'wqy-microhei' instead”\n",
            "Warning message in text.default(x1, y1, words[i], cex = size[i], offset = 0, srt = rotWord * :\n",
            "“font family 'Microsoft YaHei' not found, will use 'wqy-microhei' instead”\n",
            "Warning message in text.default(x1, y1, words[i], cex = size[i], offset = 0, srt = rotWord * :\n",
            "“font family 'Microsoft YaHei' not found, will use 'wqy-microhei' instead”\n",
            "Warning message in text.default(x1, y1, words[i], cex = size[i], offset = 0, srt = rotWord * :\n",
            "“font family 'Microsoft YaHei' not found, will use 'wqy-microhei' instead”\n",
            "Warning message in text.default(x1, y1, words[i], cex = size[i], offset = 0, srt = rotWord * :\n",
            "“font family 'Microsoft YaHei' not found, will use 'wqy-microhei' instead”\n",
            "Warning message in strwidth(words[i], cex = size[i], ...):\n",
            "“font family 'Microsoft YaHei' not found, will use 'wqy-microhei' instead”\n",
            "Warning message in text.default(x1, y1, words[i], cex = size[i], offset = 0, srt = rotWord * :\n",
            "“font family 'Microsoft YaHei' not found, will use 'wqy-microhei' instead”\n",
            "Warning message in text.default(x1, y1, words[i], cex = size[i], offset = 0, srt = rotWord * :\n",
            "“font family 'Microsoft YaHei' not found, will use 'wqy-microhei' instead”\n",
            "Warning message in text.default(x1, y1, words[i], cex = size[i], offset = 0, srt = rotWord * :\n",
            "“font family 'Microsoft YaHei' not found, will use 'wqy-microhei' instead”\n",
            "Warning message in strwidth(words[i], cex = size[i], ...):\n",
            "“font family 'Microsoft YaHei' not found, will use 'wqy-microhei' instead”\n",
            "Warning message in text.default(x1, y1, words[i], cex = size[i], offset = 0, srt = rotWord * :\n",
            "“font family 'Microsoft YaHei' not found, will use 'wqy-microhei' instead”\n",
            "Warning message in text.default(x1, y1, words[i], cex = size[i], offset = 0, srt = rotWord * :\n",
            "“font family 'Microsoft YaHei' not found, will use 'wqy-microhei' instead”\n",
            "Warning message in text.default(x1, y1, words[i], cex = size[i], offset = 0, srt = rotWord * :\n",
            "“font family 'Microsoft YaHei' not found, will use 'wqy-microhei' instead”\n",
            "Warning message in text.default(x1, y1, words[i], cex = size[i], offset = 0, srt = rotWord * :\n",
            "“font family 'Microsoft YaHei' not found, will use 'wqy-microhei' instead”\n",
            "Warning message in strwidth(words[i], cex = size[i], ...):\n",
            "“font family 'Microsoft YaHei' not found, will use 'wqy-microhei' instead”\n",
            "Warning message in text.default(x1, y1, words[i], cex = size[i], offset = 0, srt = rotWord * :\n",
            "“font family 'Microsoft YaHei' not found, will use 'wqy-microhei' instead”\n",
            "Warning message in text.default(x1, y1, words[i], cex = size[i], offset = 0, srt = rotWord * :\n",
            "“font family 'Microsoft YaHei' not found, will use 'wqy-microhei' instead”\n",
            "Warning message in text.default(x1, y1, words[i], cex = size[i], offset = 0, srt = rotWord * :\n",
            "“font family 'Microsoft YaHei' not found, will use 'wqy-microhei' instead”\n",
            "Warning message in text.default(x1, y1, words[i], cex = size[i], offset = 0, srt = rotWord * :\n",
            "“font family 'Microsoft YaHei' not found, will use 'wqy-microhei' instead”\n",
            "Warning message in strwidth(words[i], cex = size[i], ...):\n",
            "“font family 'Microsoft YaHei' not found, will use 'wqy-microhei' instead”\n",
            "Warning message in text.default(x1, y1, words[i], cex = size[i], offset = 0, srt = rotWord * :\n",
            "“font family 'Microsoft YaHei' not found, will use 'wqy-microhei' instead”\n",
            "Warning message in text.default(x1, y1, words[i], cex = size[i], offset = 0, srt = rotWord * :\n",
            "“font family 'Microsoft YaHei' not found, will use 'wqy-microhei' instead”\n",
            "Warning message in text.default(x1, y1, words[i], cex = size[i], offset = 0, srt = rotWord * :\n",
            "“font family 'Microsoft YaHei' not found, will use 'wqy-microhei' instead”\n",
            "Warning message in text.default(x1, y1, words[i], cex = size[i], offset = 0, srt = rotWord * :\n",
            "“font family 'Microsoft YaHei' not found, will use 'wqy-microhei' instead”\n",
            "Warning message in strwidth(words[i], cex = size[i], ...):\n",
            "“font family 'Microsoft YaHei' not found, will use 'wqy-microhei' instead”\n",
            "Warning message in text.default(x1, y1, words[i], cex = size[i], offset = 0, srt = rotWord * :\n",
            "“font family 'Microsoft YaHei' not found, will use 'wqy-microhei' instead”\n",
            "Warning message in text.default(x1, y1, words[i], cex = size[i], offset = 0, srt = rotWord * :\n",
            "“font family 'Microsoft YaHei' not found, will use 'wqy-microhei' instead”\n",
            "Warning message in text.default(x1, y1, words[i], cex = size[i], offset = 0, srt = rotWord * :\n",
            "“font family 'Microsoft YaHei' not found, will use 'wqy-microhei' instead”\n",
            "Warning message in text.default(x1, y1, words[i], cex = size[i], offset = 0, srt = rotWord * :\n",
            "“font family 'Microsoft YaHei' not found, will use 'wqy-microhei' instead”\n",
            "Warning message in strwidth(words[i], cex = size[i], ...):\n",
            "“font family 'Microsoft YaHei' not found, will use 'wqy-microhei' instead”\n",
            "Warning message in text.default(x1, y1, words[i], cex = size[i], offset = 0, srt = rotWord * :\n",
            "“font family 'Microsoft YaHei' not found, will use 'wqy-microhei' instead”\n",
            "Warning message in text.default(x1, y1, words[i], cex = size[i], offset = 0, srt = rotWord * :\n",
            "“font family 'Microsoft YaHei' not found, will use 'wqy-microhei' instead”\n",
            "Warning message in text.default(x1, y1, words[i], cex = size[i], offset = 0, srt = rotWord * :\n",
            "“font family 'Microsoft YaHei' not found, will use 'wqy-microhei' instead”\n",
            "Warning message in text.default(x1, y1, words[i], cex = size[i], offset = 0, srt = rotWord * :\n",
            "“font family 'Microsoft YaHei' not found, will use 'wqy-microhei' instead”\n",
            "Warning message in strwidth(words[i], cex = size[i], ...):\n",
            "“font family 'Microsoft YaHei' not found, will use 'wqy-microhei' instead”\n",
            "Warning message in text.default(x1, y1, words[i], cex = size[i], offset = 0, srt = rotWord * :\n",
            "“font family 'Microsoft YaHei' not found, will use 'wqy-microhei' instead”\n",
            "Warning message in text.default(x1, y1, words[i], cex = size[i], offset = 0, srt = rotWord * :\n",
            "“font family 'Microsoft YaHei' not found, will use 'wqy-microhei' instead”\n",
            "Warning message in text.default(x1, y1, words[i], cex = size[i], offset = 0, srt = rotWord * :\n",
            "“font family 'Microsoft YaHei' not found, will use 'wqy-microhei' instead”\n",
            "Warning message in strwidth(words[i], cex = size[i], ...):\n",
            "“font family 'Microsoft YaHei' not found, will use 'wqy-microhei' instead”\n",
            "Warning message in text.default(x1, y1, words[i], cex = size[i], offset = 0, srt = rotWord * :\n",
            "“font family 'Microsoft YaHei' not found, will use 'wqy-microhei' instead”\n",
            "Warning message in text.default(x1, y1, words[i], cex = size[i], offset = 0, srt = rotWord * :\n",
            "“font family 'Microsoft YaHei' not found, will use 'wqy-microhei' instead”\n",
            "Warning message in text.default(x1, y1, words[i], cex = size[i], offset = 0, srt = rotWord * :\n",
            "“font family 'Microsoft YaHei' not found, will use 'wqy-microhei' instead”\n",
            "Warning message in text.default(x1, y1, words[i], cex = size[i], offset = 0, srt = rotWord * :\n",
            "“font family 'Microsoft YaHei' not found, will use 'wqy-microhei' instead”\n",
            "Warning message in strwidth(words[i], cex = size[i], ...):\n",
            "“font family 'Microsoft YaHei' not found, will use 'wqy-microhei' instead”\n",
            "Warning message in text.default(x1, y1, words[i], cex = size[i], offset = 0, srt = rotWord * :\n",
            "“font family 'Microsoft YaHei' not found, will use 'wqy-microhei' instead”\n",
            "Warning message in text.default(x1, y1, words[i], cex = size[i], offset = 0, srt = rotWord * :\n",
            "“font family 'Microsoft YaHei' not found, will use 'wqy-microhei' instead”\n",
            "Warning message in text.default(x1, y1, words[i], cex = size[i], offset = 0, srt = rotWord * :\n",
            "“font family 'Microsoft YaHei' not found, will use 'wqy-microhei' instead”\n",
            "Warning message in text.default(x1, y1, words[i], cex = size[i], offset = 0, srt = rotWord * :\n",
            "“font family 'Microsoft YaHei' not found, will use 'wqy-microhei' instead”\n",
            "Warning message in strwidth(words[i], cex = size[i], ...):\n",
            "“font family 'Microsoft YaHei' not found, will use 'wqy-microhei' instead”\n",
            "Warning message in text.default(x1, y1, words[i], cex = size[i], offset = 0, srt = rotWord * :\n",
            "“font family 'Microsoft YaHei' not found, will use 'wqy-microhei' instead”\n",
            "Warning message in text.default(x1, y1, words[i], cex = size[i], offset = 0, srt = rotWord * :\n",
            "“font family 'Microsoft YaHei' not found, will use 'wqy-microhei' instead”\n",
            "Warning message in text.default(x1, y1, words[i], cex = size[i], offset = 0, srt = rotWord * :\n",
            "“font family 'Microsoft YaHei' not found, will use 'wqy-microhei' instead”\n",
            "Warning message in strwidth(words[i], cex = size[i], ...):\n",
            "“font family 'Microsoft YaHei' not found, will use 'wqy-microhei' instead”\n",
            "Warning message in text.default(x1, y1, words[i], cex = size[i], offset = 0, srt = rotWord * :\n",
            "“font family 'Microsoft YaHei' not found, will use 'wqy-microhei' instead”\n",
            "Warning message in text.default(x1, y1, words[i], cex = size[i], offset = 0, srt = rotWord * :\n",
            "“font family 'Microsoft YaHei' not found, will use 'wqy-microhei' instead”\n",
            "Warning message in text.default(x1, y1, words[i], cex = size[i], offset = 0, srt = rotWord * :\n",
            "“font family 'Microsoft YaHei' not found, will use 'wqy-microhei' instead”\n",
            "Warning message in text.default(x1, y1, words[i], cex = size[i], offset = 0, srt = rotWord * :\n",
            "“font family 'Microsoft YaHei' not found, will use 'wqy-microhei' instead”\n"
          ],
          "name": "stderr"
        },
        {
          "output_type": "display_data",
          "data": {
            "image/png": "[encoded data removed]",
            "text/plain": [
              "plot without title"
            ]
          },
          "metadata": {
            "tags": [],
            "image/png": {
              "width": 420,
              "height": 420
            }
          }
        }
      ]
    },
    {
      "cell_type": "code",
      "metadata": {
        "colab": {
          "base_uri": "https://localhost:8080/"
        },
        "id": "HlE5_oaDXwyk",
        "outputId": "30502306-dfae-4d92-a2aa-d8f5722a1634"
      },
      "source": [
        "install.packages(\"showtext\")"
      ],
      "execution_count": 98,
      "outputs": [
        {
          "output_type": "stream",
          "text": [
            "Installing package into ‘/usr/local/lib/R/site-library’\n",
            "(as ‘lib’ is unspecified)\n",
            "\n"
          ],
          "name": "stderr"
        }
      ]
    },
    {
      "cell_type": "code",
      "metadata": {
        "id": "K33DYsYwXapW"
      },
      "source": [
        "library(showtext)"
      ],
      "execution_count": 99,
      "outputs": []
    },
    {
      "cell_type": "code",
      "metadata": {
        "id": "eNcf7TeEYcjI"
      },
      "source": [
        "showtext.auto(enable = TRUE)"
      ],
      "execution_count": 100,
      "outputs": []
    }
  ]
}